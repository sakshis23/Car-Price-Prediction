{
 "cells": [
  {
   "cell_type": "markdown",
   "id": "11b72316",
   "metadata": {},
   "source": [
    "## Importing required libraries"
   ]
  },
  {
   "cell_type": "code",
   "execution_count": 25,
   "id": "550ca8f4",
   "metadata": {},
   "outputs": [],
   "source": [
    "import selenium\n",
    "import pandas as pd\n",
    "import time\n",
    "from bs4 import BeautifulSoup\n",
    "\n",
    "#!pip install webdriver-manager\n",
    "\n",
    "\n",
    "#connect to the webdriver\n",
    "driver = webdriver.Chrome(r\"C:/Users/dell/Downloads/chromedriver_win32 (1)/chromedriver.exe\")\n",
    "\n",
    "\n",
    "# Importing required Exceptions which needs to handled\n",
    "from selenium.common.exceptions import StaleElementReferenceException, NoSuchElementException\n",
    "\n",
    "#Importing requests\n",
    "import requests\n",
    "\n",
    "# importing regex\n",
    "import re"
   ]
  },
  {
   "cell_type": "code",
   "execution_count": 26,
   "id": "0bc89597",
   "metadata": {},
   "outputs": [
    {
     "name": "stdout",
     "output_type": "stream",
     "text": [
      "Enter the product you want to search : used Sedan cars\n"
     ]
    }
   ],
   "source": [
    "#Opening the url\n",
    "\n",
    "url='https://www.olx.in/'\n",
    "driver.get(url)\n",
    "\n",
    "time.sleep(2)\n",
    "\n",
    "# Asking the user to input the keywords he/she wants to search\n",
    "\n",
    "user_inp = input('Enter the product you want to search : ')"
   ]
  },
  {
   "cell_type": "code",
   "execution_count": null,
   "id": "820b0c6e",
   "metadata": {},
   "outputs": [],
   "source": [
    "search_bar = driver.find_element_by_xpath('//div[@class=\"zYZEU\"]//input')    # Locating search_bar by xpath\n",
    "\n",
    "search_bar.clear()                                               # clearing search_bar\n",
    "\n",
    "search_bar.send_keys(user_inp)                                   # sending user input to search bar\n",
    "\n",
    "search_button = driver.find_element_by_xpath('//div[@class=\"_3b3oR\"]')       # Locating search_button by xpath\n",
    "\n",
    "search_button.click()                                                                # Clicking the button to start search"
   ]
  },
  {
   "cell_type": "code",
   "execution_count": null,
   "id": "5e593a23",
   "metadata": {},
   "outputs": [],
   "source": [
    "# scrape all product urls\n",
    "\n",
    "urls=[]\n",
    "for i in range(0,1):#for loop for scrapping 1 page\n",
    "    for j in driver.find_elements_by_xpath('//li[@class=\"EIR5N\"]//a'):\n",
    "        urls.append(j.get_attribute('href'))"
   ]
  },
  {
   "cell_type": "code",
   "execution_count": null,
   "id": "88267d6c",
   "metadata": {},
   "outputs": [],
   "source": [
    "urls"
   ]
  },
  {
   "cell_type": "code",
   "execution_count": null,
   "id": "e090fd11",
   "metadata": {},
   "outputs": [],
   "source": [
    "len(urls)"
   ]
  },
  {
   "cell_type": "code",
   "execution_count": null,
   "id": "878fec27",
   "metadata": {},
   "outputs": [],
   "source": [
    "#defining variables\n",
    "\n",
    "model_list=[]\n",
    "year_km_list=[]\n",
    "location_list=[]\n",
    "price_list=[]"
   ]
  },
  {
   "cell_type": "code",
   "execution_count": null,
   "id": "2233867c",
   "metadata": {},
   "outputs": [],
   "source": [
    "#fetching price of the used car\n",
    "\n",
    "for i in urls:\n",
    "    driver.get(i)\n",
    "    time.sleep(3)\n",
    "try:\n",
    "    for j in driver.find_elements_by_xpath('//span[@class=\"_89yzn\"]'):\n",
    "        price_list.append(j.text)\n",
    "        \n",
    "except NoSuchElementException:\n",
    "    price_list.append('-')"
   ]
  },
  {
   "cell_type": "code",
   "execution_count": null,
   "id": "8b91d514",
   "metadata": {},
   "outputs": [],
   "source": [
    "price_list"
   ]
  },
  {
   "cell_type": "code",
   "execution_count": null,
   "id": "c2c0b10e",
   "metadata": {},
   "outputs": [],
   "source": [
    "len(price_list)"
   ]
  },
  {
   "cell_type": "code",
   "execution_count": null,
   "id": "263db8d6",
   "metadata": {},
   "outputs": [],
   "source": [
    "#fetching year and km of the used car\n",
    "\n",
    "for i in urls:\n",
    "    driver.get(i)\n",
    "    time.sleep(3)\n",
    "try:\n",
    "    for j in driver.find_elements_by_xpath('//div[@class=\"IKo3_\"]/span[2]'):\n",
    "        year_km_list.append(j.text)\n",
    "        \n",
    "except NoSuchElementException:\n",
    "    year_km_list.append('-')"
   ]
  },
  {
   "cell_type": "code",
   "execution_count": null,
   "id": "4ec5ffd7",
   "metadata": {},
   "outputs": [],
   "source": [
    "year_km_list"
   ]
  },
  {
   "cell_type": "code",
   "execution_count": null,
   "id": "70246fa9",
   "metadata": {},
   "outputs": [],
   "source": [
    "len(year_km_list)"
   ]
  },
  {
   "cell_type": "code",
   "execution_count": null,
   "id": "16cfd985",
   "metadata": {},
   "outputs": [],
   "source": [
    "#fetching model of the used car\n",
    "for i in urls:\n",
    "    driver.get(i)\n",
    "    time.sleep(3)\n",
    "try:\n",
    "    for j in driver.find_elements_by_xpath('//span[@class=\"_2tW1I\"]'):\n",
    "        model_list.append(j.text)\n",
    "        \n",
    "except NoSuchElementException:\n",
    "    model_list.append('-')"
   ]
  },
  {
   "cell_type": "code",
   "execution_count": null,
   "id": "5891143b",
   "metadata": {},
   "outputs": [],
   "source": [
    "model_list"
   ]
  },
  {
   "cell_type": "code",
   "execution_count": null,
   "id": "1ed3f08d",
   "metadata": {},
   "outputs": [],
   "source": [
    "len(model_list)"
   ]
  },
  {
   "cell_type": "code",
   "execution_count": null,
   "id": "6f33b7bc",
   "metadata": {},
   "outputs": [],
   "source": [
    "#fetching location of the used car\n",
    "\n",
    "for i in urls:\n",
    "    driver.get(i)\n",
    "    time.sleep(3)\n",
    "try:\n",
    "    for j in driver.find_elements_by_xpath('//span[@class=\"tjgMj\"]'):\n",
    "        location_list.append(j.text)\n",
    "        \n",
    "except NoSuchElementException:\n",
    "    location_list.append('-')"
   ]
  },
  {
   "cell_type": "code",
   "execution_count": null,
   "id": "c69c4877",
   "metadata": {},
   "outputs": [],
   "source": [
    "#fetching location of the used car\n",
    "for i in urls:\n",
    "    driver.get(i)\n",
    "    time.sleep(3)\n",
    "try:\n",
    "    for j in driver.find_elements_by_xpath('//span[@class=\"tjgMj\"]'):\n",
    "        location_list.append(j.text)\n",
    "        \n",
    "except NoSuchElementException:\n",
    "    location_list.append('-')"
   ]
  },
  {
   "cell_type": "code",
   "execution_count": null,
   "id": "0be44561",
   "metadata": {},
   "outputs": [],
   "source": [
    "location_list"
   ]
  },
  {
   "cell_type": "code",
   "execution_count": null,
   "id": "eabf01dd",
   "metadata": {},
   "outputs": [],
   "source": [
    "len(location_list)"
   ]
  },
  {
   "cell_type": "code",
   "execution_count": 27,
   "id": "bcfdad8b",
   "metadata": {},
   "outputs": [
    {
     "name": "stdout",
     "output_type": "stream",
     "text": [
      "Enter the product you want to search : used SUV cars\n"
     ]
    }
   ],
   "source": [
    "#Opening the url\n",
    "url='https://www.olx.in/'\n",
    "driver.get(url)\n",
    "\n",
    "time.sleep(2)\n",
    "# Asking the user to input the keywords he/she wants to search\n",
    "user_inp = input('Enter the product you want to search : ')"
   ]
  },
  {
   "cell_type": "code",
   "execution_count": null,
   "id": "f75114e4",
   "metadata": {},
   "outputs": [],
   "source": [
    "search_bar = driver.find_element_by_xpath('//div[@class=\"zYZEU\"]//input')    # Locating search_bar by xpath\n",
    "search_bar.clear()                                               # clearing search_bar\n",
    "search_bar.send_keys(user_inp)                                   # sending user input to search bar\n",
    "search_button = driver.find_element_by_xpath('//div[@class=\"_3b3oR\"]')       # Locating search_button by xpath\n",
    "search_button.click()  "
   ]
  },
  {
   "cell_type": "code",
   "execution_count": null,
   "id": "fe476d74",
   "metadata": {},
   "outputs": [],
   "source": [
    "product_urls = []\n",
    "start=0\n",
    "end=2\n",
    "for page in range(start,end):#for loop for scrapping 2 page\n",
    "    url=driver.find_elements_by_xpath('//li[@class=\"EIR5N\"]//a')       #scraping urls\n",
    "    for i in url:\n",
    "        product_urls.append(i.get_attribute(\"href\"))                        #appending the urls in product_urls list\n",
    "    nxt_button=driver.find_element_by_xpath(\"//button[@class='rui-39-wj rui-3evoE rui-1JPTg']\")     #scraping the list of buttons from the page\n",
    "    nxt_button.click()\n",
    "    time.sleep(2)"
   ]
  },
  {
   "cell_type": "code",
   "execution_count": null,
   "id": "d635e4dd",
   "metadata": {},
   "outputs": [],
   "source": [
    "product_urls"
   ]
  },
  {
   "cell_type": "code",
   "execution_count": null,
   "id": "1f16ab1c",
   "metadata": {},
   "outputs": [],
   "source": [
    "len(product_urls)"
   ]
  },
  {
   "cell_type": "code",
   "execution_count": null,
   "id": "530ed7f3",
   "metadata": {},
   "outputs": [],
   "source": [
    "#fetching price of the used car\n",
    "\n",
    "for i in product_urls:\n",
    "    driver.get(i)\n",
    "    time.sleep(3)\n",
    "try:\n",
    "    for j in driver.find_elements_by_xpath('//span[@class=\"_89yzn\"]'):\n",
    "        price_list.append(j.text)\n",
    "        \n",
    "except NoSuchElementException:\n",
    "    price_list.append('-')"
   ]
  },
  {
   "cell_type": "code",
   "execution_count": null,
   "id": "ce7241a2",
   "metadata": {},
   "outputs": [],
   "source": [
    "price_list"
   ]
  },
  {
   "cell_type": "code",
   "execution_count": null,
   "id": "89c72e0d",
   "metadata": {},
   "outputs": [],
   "source": [
    "len(price_list)"
   ]
  },
  {
   "cell_type": "code",
   "execution_count": null,
   "id": "92d56457",
   "metadata": {},
   "outputs": [],
   "source": [
    "#fetching model of the used car\n",
    "\n",
    "for i in product_urls:\n",
    "    driver.get(i)\n",
    "    time.sleep(3)\n",
    "try:\n",
    "    for j in driver.find_elements_by_xpath('//span[@class=\"_2tW1I\"]'):\n",
    "        model_list.append(j.text)\n",
    "        \n",
    "except NoSuchElementException:\n",
    "    model_list.append('-')"
   ]
  },
  {
   "cell_type": "code",
   "execution_count": null,
   "id": "a0f5ebd4",
   "metadata": {},
   "outputs": [],
   "source": [
    "model_list"
   ]
  },
  {
   "cell_type": "code",
   "execution_count": null,
   "id": "614712c8",
   "metadata": {},
   "outputs": [],
   "source": [
    "len(model_list)#fetching year and km of the used car\n",
    "\n",
    "for i in product_urls:\n",
    "    driver.get(i)\n",
    "    time.sleep(3)\n",
    "try:\n",
    "    for j in driver.find_elements_by_xpath('//div[@class=\"IKo3_\"]/span[2]'):\n",
    "        year_km_list.append(j.text)\n",
    "        \n",
    "except NoSuchElementException:\n",
    "    year_km_list.append('-')"
   ]
  },
  {
   "cell_type": "code",
   "execution_count": null,
   "id": "0e33945a",
   "metadata": {},
   "outputs": [],
   "source": [
    "year_km_list"
   ]
  },
  {
   "cell_type": "code",
   "execution_count": null,
   "id": "46698da5",
   "metadata": {},
   "outputs": [],
   "source": [
    "len(year_km_list)"
   ]
  },
  {
   "cell_type": "code",
   "execution_count": null,
   "id": "09c48d66",
   "metadata": {},
   "outputs": [],
   "source": [
    "#fetching location of the used car\n",
    "\n",
    "for i in product_urls:\n",
    "    driver.get(i)\n",
    "    time.sleep(3)\n",
    "try:\n",
    "    for j in driver.find_elements_by_xpath('//span[@class=\"tjgMj\"]'):\n",
    "        location_list.append(j.text)\n",
    "        \n",
    "except NoSuchElementException:\n",
    "    location_list.append('-')"
   ]
  },
  {
   "cell_type": "code",
   "execution_count": null,
   "id": "c45c462e",
   "metadata": {},
   "outputs": [],
   "source": [
    "location_list"
   ]
  },
  {
   "cell_type": "code",
   "execution_count": null,
   "id": "2dfc807a",
   "metadata": {},
   "outputs": [],
   "source": [
    "len(location_list)"
   ]
  },
  {
   "cell_type": "code",
   "execution_count": 28,
   "id": "d303565b",
   "metadata": {},
   "outputs": [
    {
     "name": "stdout",
     "output_type": "stream",
     "text": [
      "Enter the product you want to search : used minivan cars\n"
     ]
    }
   ],
   "source": [
    "#Opening the url\n",
    "\n",
    "url='https://www.olx.in/'\n",
    "driver.get(url)\n",
    "\n",
    "time.sleep(2)\n",
    "\n",
    "# Asking the user to input the keywords he/she wants to search\n",
    "\n",
    "user_inp = input('Enter the product you want to search : ')"
   ]
  },
  {
   "cell_type": "code",
   "execution_count": null,
   "id": "4f150036",
   "metadata": {},
   "outputs": [],
   "source": [
    "search_bar = driver.find_element_by_xpath('//div[@class=\"zYZEU\"]//input')    # Locating search_bar by xpath\n",
    "search_bar.clear()                                               # clearing search_bar\n",
    "search_bar.send_keys(user_inp)                                   # sending user input to search bar\n",
    "search_button = driver.find_element_by_xpath('//div[@class=\"_3b3oR\"]')       # Locating search_button by xpath\n",
    "search_button.click()      "
   ]
  },
  {
   "cell_type": "code",
   "execution_count": null,
   "id": "8ab2efa3",
   "metadata": {},
   "outputs": [],
   "source": [
    "# scrape all product urls\n",
    "\n",
    "urls=[]\n",
    "for i in range(0,1):#for loop for scrapping 1 page\n",
    "    for j in driver.find_elements_by_xpath('//li[@class=\"EIR5N\"]//a'):\n",
    "        urls.append(j.get_attribute('href'))"
   ]
  },
  {
   "cell_type": "code",
   "execution_count": null,
   "id": "bd7175c0",
   "metadata": {},
   "outputs": [],
   "source": [
    "urls"
   ]
  },
  {
   "cell_type": "code",
   "execution_count": null,
   "id": "3fac7542",
   "metadata": {},
   "outputs": [],
   "source": [
    "len(urls)"
   ]
  },
  {
   "cell_type": "code",
   "execution_count": null,
   "id": "dacb35a0",
   "metadata": {},
   "outputs": [],
   "source": [
    "#fetching price of the used car\n",
    "\n",
    "for i in urls:\n",
    "    driver.get(i)\n",
    "    time.sleep(3)\n",
    "try:\n",
    "    for j in driver.find_elements_by_xpath('//span[@class=\"_89yzn\"]'):\n",
    "        price_list.append(j.text)\n",
    "        \n",
    "except NoSuchElementException:\n",
    "    price_list.append('-')"
   ]
  },
  {
   "cell_type": "code",
   "execution_count": null,
   "id": "eebaef7d",
   "metadata": {},
   "outputs": [],
   "source": [
    "price_list"
   ]
  },
  {
   "cell_type": "code",
   "execution_count": null,
   "id": "49b542c7",
   "metadata": {},
   "outputs": [],
   "source": [
    "len(price_list)"
   ]
  },
  {
   "cell_type": "code",
   "execution_count": null,
   "id": "442acfe1",
   "metadata": {},
   "outputs": [],
   "source": [
    "#fetching year and km of the used car\n",
    "\n",
    "for i in urls:\n",
    "    driver.get(i)\n",
    "    time.sleep(3)\n",
    "try:\n",
    "    for j in driver.find_elements_by_xpath('//div[@class=\"IKo3_\"]/span[2]'):\n",
    "        year_km_list.append(j.text)\n",
    "        \n",
    "except NoSuchElementException:\n",
    "    year_km_list.append('-')"
   ]
  },
  {
   "cell_type": "code",
   "execution_count": null,
   "id": "9c1b16d3",
   "metadata": {},
   "outputs": [],
   "source": [
    "year_km_list"
   ]
  },
  {
   "cell_type": "code",
   "execution_count": null,
   "id": "5e2536d0",
   "metadata": {},
   "outputs": [],
   "source": [
    "len(year_km_list)"
   ]
  },
  {
   "cell_type": "code",
   "execution_count": null,
   "id": "74f5f362",
   "metadata": {},
   "outputs": [],
   "source": [
    "#fetching model of the used car\n",
    "\n",
    "for i in urls:\n",
    "    driver.get(i)\n",
    "    time.sleep(3)\n",
    "try:\n",
    "    for j in driver.find_elements_by_xpath('//span[@class=\"_2tW1I\"]'):\n",
    "        model_list.append(j.text)\n",
    "        \n",
    "except NoSuchElementException:\n",
    "    model_list.append('-')"
   ]
  },
  {
   "cell_type": "code",
   "execution_count": null,
   "id": "026d2c89",
   "metadata": {},
   "outputs": [],
   "source": [
    "model_list"
   ]
  },
  {
   "cell_type": "code",
   "execution_count": null,
   "id": "9879282a",
   "metadata": {},
   "outputs": [],
   "source": [
    "len(model_list)"
   ]
  },
  {
   "cell_type": "code",
   "execution_count": null,
   "id": "d52d57f5",
   "metadata": {},
   "outputs": [],
   "source": [
    "#fetching location of the used car\n",
    "\n",
    "for i in urls:\n",
    "    driver.get(i)\n",
    "    time.sleep(3)\n",
    "try:\n",
    "    for j in driver.find_elements_by_xpath('//span[@class=\"tjgMj\"]'):\n",
    "        location_list.append(j.text)\n",
    "        \n",
    "except NoSuchElementException:\n",
    "    location_list.append('-')"
   ]
  },
  {
   "cell_type": "code",
   "execution_count": null,
   "id": "64f49678",
   "metadata": {},
   "outputs": [],
   "source": [
    "location_list"
   ]
  },
  {
   "cell_type": "code",
   "execution_count": null,
   "id": "631ada12",
   "metadata": {},
   "outputs": [],
   "source": [
    "len(location_list)"
   ]
  },
  {
   "cell_type": "code",
   "execution_count": 29,
   "id": "195f6eaa",
   "metadata": {},
   "outputs": [
    {
     "name": "stdout",
     "output_type": "stream",
     "text": [
      "Enter the product you want to search : used coupe cars\n"
     ]
    }
   ],
   "source": [
    "#Opening the url\n",
    "\n",
    "url='https://www.olx.in/'\n",
    "driver.get(url)\n",
    "\n",
    "time.sleep(2)\n",
    "\n",
    "# Asking the user to input the keywords he/she wants to search\n",
    "\n",
    "user_inp = input('Enter the product you want to search : ')"
   ]
  },
  {
   "cell_type": "code",
   "execution_count": null,
   "id": "4dfcb5ee",
   "metadata": {},
   "outputs": [],
   "source": [
    "search_bar = driver.find_element_by_xpath('//div[@class=\"zYZEU\"]//input')    # Locating search_bar by xpath\n",
    "search_bar.clear()                                               # clearing search_bar\n",
    "search_bar.send_keys(user_inp)                                   # sending user input to search bar\n",
    "search_button = driver.find_element_by_xpath('//div[@class=\"_3b3oR\"]')       # Locating search_button by xpath\n",
    "search_button.click()      "
   ]
  },
  {
   "cell_type": "code",
   "execution_count": null,
   "id": "c98382ed",
   "metadata": {},
   "outputs": [],
   "source": [
    "# scrape all product urls\n",
    "\n",
    "urls=[]\n",
    "for i in range(0,1):#for loop for scrapping 1 page\n",
    "    for j in driver.find_elements_by_xpath('//li[@class=\"EIR5N\"]//a'):\n",
    "        urls.append(j.get_attribute('href'))"
   ]
  },
  {
   "cell_type": "code",
   "execution_count": null,
   "id": "469cb1b0",
   "metadata": {},
   "outputs": [],
   "source": [
    "urls"
   ]
  },
  {
   "cell_type": "code",
   "execution_count": null,
   "id": "2d1ec8cc",
   "metadata": {},
   "outputs": [],
   "source": [
    "len(urls)"
   ]
  },
  {
   "cell_type": "code",
   "execution_count": null,
   "id": "349aa20a",
   "metadata": {},
   "outputs": [],
   "source": [
    "#fetching price of the used car\n",
    "\n",
    "for i in urls:\n",
    "    driver.get(i)\n",
    "    time.sleep(3)\n",
    "try:\n",
    "    for j in driver.find_elements_by_xpath('//span[@class=\"_89yzn\"]'):\n",
    "        price_list.append(j.text)\n",
    "        \n",
    "except NoSuchElementException:\n",
    "    price_list.append('-')"
   ]
  },
  {
   "cell_type": "code",
   "execution_count": null,
   "id": "6e71a46f",
   "metadata": {},
   "outputs": [],
   "source": [
    "price_list"
   ]
  },
  {
   "cell_type": "code",
   "execution_count": null,
   "id": "99681bf0",
   "metadata": {},
   "outputs": [],
   "source": [
    "len(price_list)"
   ]
  },
  {
   "cell_type": "code",
   "execution_count": null,
   "id": "14e16fc5",
   "metadata": {},
   "outputs": [],
   "source": [
    "#fetching year and km of the used car\n",
    "\n",
    "for i in urls:\n",
    "    driver.get(i)\n",
    "    time.sleep(3)\n",
    "try:\n",
    "    for j in driver.find_elements_by_xpath('//div[@class=\"IKo3_\"]/span[2]'):\n",
    "        year_km_list.append(j.text)\n",
    "        \n",
    "except NoSuchElementException:\n",
    "    year_km_list.append('-')"
   ]
  },
  {
   "cell_type": "code",
   "execution_count": null,
   "id": "90f1e774",
   "metadata": {},
   "outputs": [],
   "source": [
    "year_km_list"
   ]
  },
  {
   "cell_type": "code",
   "execution_count": null,
   "id": "787dd690",
   "metadata": {},
   "outputs": [],
   "source": [
    "len(year_km_list)"
   ]
  },
  {
   "cell_type": "code",
   "execution_count": null,
   "id": "dac95e52",
   "metadata": {},
   "outputs": [],
   "source": [
    "#fetching model of the used car\n",
    "\n",
    "for i in urls:\n",
    "    driver.get(i)\n",
    "    time.sleep(3)\n",
    "try:\n",
    "    for j in driver.find_elements_by_xpath('//span[@class=\"_2tW1I\"]'):\n",
    "        model_list.append(j.text)\n",
    "        \n",
    "except NoSuchElementException:\n",
    "    model_list.append('-')"
   ]
  },
  {
   "cell_type": "code",
   "execution_count": null,
   "id": "b4781365",
   "metadata": {},
   "outputs": [],
   "source": [
    "model_list"
   ]
  },
  {
   "cell_type": "code",
   "execution_count": null,
   "id": "2fb7fe3d",
   "metadata": {},
   "outputs": [],
   "source": [
    "len(model_list)"
   ]
  },
  {
   "cell_type": "code",
   "execution_count": null,
   "id": "a4809bcd",
   "metadata": {},
   "outputs": [],
   "source": [
    "#fetching location of the used car\n",
    "\n",
    "for i in urls:\n",
    "    driver.get(i)\n",
    "    time.sleep(3)\n",
    "try:\n",
    "    for j in driver.find_elements_by_xpath('//span[@class=\"tjgMj\"]'):\n",
    "        location_list.append(j.text)\n",
    "        \n",
    "except NoSuchElementException:\n",
    "    location_list.append('-')"
   ]
  },
  {
   "cell_type": "code",
   "execution_count": null,
   "id": "3d55cb2d",
   "metadata": {},
   "outputs": [],
   "source": [
    "location_list"
   ]
  },
  {
   "cell_type": "code",
   "execution_count": null,
   "id": "44de821c",
   "metadata": {},
   "outputs": [],
   "source": [
    "len(location_list)"
   ]
  },
  {
   "cell_type": "code",
   "execution_count": null,
   "id": "b833b49b",
   "metadata": {},
   "outputs": [],
   "source": [
    "#Opening the url\n",
    "url='https://www.cars24.com/'\n",
    "driver.get(url)\n",
    "\n",
    "#time.sleep(2)\n",
    "\n",
    "# Asking the user to input the keywords he/she wants to search\n",
    "#user_inp = input('Enter the product you want to search : ')"
   ]
  },
  {
   "cell_type": "code",
   "execution_count": null,
   "id": "8cf217d1",
   "metadata": {},
   "outputs": [],
   "source": [
    "search_bar = driver.find_element_by_xpath('//ul[@class=\"float-right _1yq3e\"]/li[3]/a').click()      # Locating search_bar by xpath\n",
    "#search_bar.clear()                                               # clearing search_bar\n",
    "#search_bar.send_keys(user_inp)                                   # sending user input to search bar\n",
    "#search_button = driver.find_element_by_xpath('//button[@class=\"searchbtn\"]')       # Locating search_button by xpath\n",
    "#search_button.click()  "
   ]
  },
  {
   "cell_type": "code",
   "execution_count": null,
   "id": "17d3aaee",
   "metadata": {},
   "outputs": [],
   "source": [
    "product_urls = []\n",
    "start=0\n",
    "end=1\n",
    "for page in range(start,end):#for loop for scrapping 1 page\n",
    "    url=driver.find_elements_by_xpath('//div[@class=\"col-4\"]//a')       #scraping urls\n",
    "    for i in url:\n",
    "        product_urls.append(i.get_attribute(\"href\"))                        #appending the urls in product_urls list\n",
    "    #nxt_button=driver.find_element_by_xpath(\"//button[@class='rui-39-wj rui-3evoE rui-1JPTg']\")     #scraping the list of buttons from the page\n",
    "    #nxt_button.click()\n",
    "    #time.sleep(2)"
   ]
  },
  {
   "cell_type": "code",
   "execution_count": null,
   "id": "2a102a55",
   "metadata": {},
   "outputs": [],
   "source": [
    "product_urls"
   ]
  },
  {
   "cell_type": "code",
   "execution_count": null,
   "id": "8c92e4ed",
   "metadata": {},
   "outputs": [],
   "source": [
    "len(product_urls)"
   ]
  },
  {
   "cell_type": "code",
   "execution_count": null,
   "id": "31c07668",
   "metadata": {},
   "outputs": [],
   "source": [
    "#fetching price of the used car\n",
    "\n",
    "for i in product_urls:\n",
    "    driver.get(i)\n",
    "    time.sleep(3)\n",
    "try:\n",
    "    for j in driver.find_elements_by_xpath('//div[@class=\"_19zc5\"]'):\n",
    "        price_list.append(j.text)\n",
    "        \n",
    "except NoSuchElementException:\n",
    "    price_list.append('-')"
   ]
  },
  {
   "cell_type": "code",
   "execution_count": null,
   "id": "3de37e73",
   "metadata": {},
   "outputs": [],
   "source": [
    "price_list"
   ]
  },
  {
   "cell_type": "code",
   "execution_count": null,
   "id": "3691e88c",
   "metadata": {},
   "outputs": [],
   "source": [
    "len(price_list)"
   ]
  },
  {
   "cell_type": "code",
   "execution_count": null,
   "id": "91bd65b5",
   "metadata": {},
   "outputs": [],
   "source": [
    "#fetching year and km of the used car\n",
    "\n",
    "for i in product_urls:\n",
    "    driver.get(i)\n",
    "    time.sleep(3)\n",
    "try:\n",
    "    for j in driver.find_elements_by_xpath('//ul[@class=\"bVR0c\"]/li[1]'):\n",
    "        year_km_list.append(j.text)\n",
    "        \n",
    "except NoSuchElementException:\n",
    "    year_km_list.append('-')"
   ]
  },
  {
   "cell_type": "code",
   "execution_count": null,
   "id": "c396ce01",
   "metadata": {},
   "outputs": [],
   "source": [
    "year_km_list"
   ]
  },
  {
   "cell_type": "code",
   "execution_count": null,
   "id": "4d5a526a",
   "metadata": {},
   "outputs": [],
   "source": [
    "fuel_list=[]"
   ]
  },
  {
   "cell_type": "code",
   "execution_count": null,
   "id": "f3714dc5",
   "metadata": {},
   "outputs": [],
   "source": [
    "#fetching fuel of the used car\n",
    "\n",
    "for i in product_urls:\n",
    "    driver.get(i)\n",
    "    time.sleep(3)\n",
    "try:\n",
    "    for j in driver.find_elements_by_xpath('//ul[@class=\"bVR0c\"]/li[3]'):\n",
    "        fuel_list.append(j.text)\n",
    "        \n",
    "except NoSuchElementException:\n",
    "    fuel_list.append('-')"
   ]
  },
  {
   "cell_type": "code",
   "execution_count": null,
   "id": "be9d99c0",
   "metadata": {},
   "outputs": [],
   "source": [
    "fuel_list"
   ]
  },
  {
   "cell_type": "code",
   "execution_count": null,
   "id": "a942231d",
   "metadata": {},
   "outputs": [],
   "source": [
    "#fetching model of the used car\n",
    "for i in product_urls:\n",
    "    driver.get(i)\n",
    "    time.sleep(3)\n",
    "try:\n",
    "    for j in driver.find_elements_by_xpath('//div[@class=\"_1jpRU\"]/h2'):\n",
    "        model_list.append(j.text)\n",
    "        \n",
    "except NoSuchElementException:\n",
    "    model_list.append('-')"
   ]
  },
  {
   "cell_type": "code",
   "execution_count": null,
   "id": "29e15b24",
   "metadata": {},
   "outputs": [],
   "source": [
    "model_list"
   ]
  },
  {
   "cell_type": "code",
   "execution_count": null,
   "id": "a6ab0859",
   "metadata": {},
   "outputs": [],
   "source": []
  }
 ],
 "metadata": {
  "kernelspec": {
   "display_name": "Python 3",
   "language": "python",
   "name": "python3"
  },
  "language_info": {
   "codemirror_mode": {
    "name": "ipython",
    "version": 3
   },
   "file_extension": ".py",
   "mimetype": "text/x-python",
   "name": "python",
   "nbconvert_exporter": "python",
   "pygments_lexer": "ipython3",
   "version": "3.8.8"
  }
 },
 "nbformat": 4,
 "nbformat_minor": 5
}
