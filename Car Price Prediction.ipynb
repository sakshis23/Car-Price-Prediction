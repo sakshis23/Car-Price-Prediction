{
 "cells": [
  {
   "cell_type": "markdown",
   "id": "3ed05180",
   "metadata": {},
   "source": [
    "# Importing the required libraries"
   ]
  },
  {
   "cell_type": "code",
   "execution_count": 2,
   "id": "a574796e",
   "metadata": {},
   "outputs": [],
   "source": [
    "import numpy as np\n",
    "import pandas as pd\n",
    "import seaborn as sns\n",
    "import matplotlib.pyplot as plt\n",
    "import sklearn\n",
    "from sklearn.ensemble import RandomForestRegressor\n",
    "from sklearn.ensemble import AdaBoostRegressor\n",
    "from sklearn.ensemble import GradientBoostingRegressor\n",
    "from sklearn.tree import DecisionTreeRegressor\n",
    "from sklearn.neighbors import KNeighborsRegressor\n",
    "from sklearn.linear_model import LinearRegression\n",
    "from sklearn.metrics import mean_squared_error\n",
    "from sklearn.metrics import r2_score\n",
    "from sklearn.model_selection import train_test_split\n",
    "from scipy.stats import zscore\n",
    "import warnings\n",
    "warnings.filterwarnings('ignore')"
   ]
  },
  {
   "cell_type": "code",
   "execution_count": 3,
   "id": "b7022559",
   "metadata": {},
   "outputs": [],
   "source": [
    "#Loading the dataset\n",
    "\n",
    "df=pd.read_excel('Car_prediction_price.xlsx')"
   ]
  },
  {
   "cell_type": "code",
   "execution_count": 4,
   "id": "db123fd0",
   "metadata": {},
   "outputs": [
    {
     "data": {
      "text/html": [
       "<div>\n",
       "<style scoped>\n",
       "    .dataframe tbody tr th:only-of-type {\n",
       "        vertical-align: middle;\n",
       "    }\n",
       "\n",
       "    .dataframe tbody tr th {\n",
       "        vertical-align: top;\n",
       "    }\n",
       "\n",
       "    .dataframe thead th {\n",
       "        text-align: right;\n",
       "    }\n",
       "</style>\n",
       "<table border=\"1\" class=\"dataframe\">\n",
       "  <thead>\n",
       "    <tr style=\"text-align: right;\">\n",
       "      <th></th>\n",
       "      <th>Model(used car)</th>\n",
       "      <th>Km driven</th>\n",
       "      <th>Fuel</th>\n",
       "      <th>year of purchase</th>\n",
       "      <th>Location</th>\n",
       "      <th>Price</th>\n",
       "    </tr>\n",
       "  </thead>\n",
       "  <tbody>\n",
       "    <tr>\n",
       "      <th>0</th>\n",
       "      <td>'BMW 3 Series 320d, 2011, Diesel',</td>\n",
       "      <td>88000</td>\n",
       "      <td>Diesel</td>\n",
       "      <td>2011</td>\n",
       "      <td>'ANDHERI EAST, MUMBAI',</td>\n",
       "      <td>695000</td>\n",
       "    </tr>\n",
       "    <tr>\n",
       "      <th>1</th>\n",
       "      <td>'BMW 3 Series 320d Sedan, 2010, Diesel',</td>\n",
       "      <td>120000</td>\n",
       "      <td>Diesel</td>\n",
       "      <td>2010</td>\n",
       "      <td>'GOREGAON EAST, MUMBAI',</td>\n",
       "      <td>545000</td>\n",
       "    </tr>\n",
       "    <tr>\n",
       "      <th>2</th>\n",
       "      <td>'BMW 3 Series 320d, 2011, Diesel',</td>\n",
       "      <td>88000</td>\n",
       "      <td>Diesel</td>\n",
       "      <td>2011</td>\n",
       "      <td>'THANE WEST, THANE',</td>\n",
       "      <td>695000</td>\n",
       "    </tr>\n",
       "    <tr>\n",
       "      <th>3</th>\n",
       "      <td>'Audi A6 35 TDI, 2007, Diesel',</td>\n",
       "      <td>62000</td>\n",
       "      <td>Diesel</td>\n",
       "      <td>2007</td>\n",
       "      <td>'THANE BELAPUR ROAD, THANE',</td>\n",
       "      <td>549000</td>\n",
       "    </tr>\n",
       "    <tr>\n",
       "      <th>4</th>\n",
       "      <td>'BMW 530d Diesel',</td>\n",
       "      <td>96000</td>\n",
       "      <td>Diesel</td>\n",
       "      <td>2008</td>\n",
       "      <td>'ANDHERI EAST, MUMBAI',</td>\n",
       "      <td>620000</td>\n",
       "    </tr>\n",
       "    <tr>\n",
       "      <th>5</th>\n",
       "      <td>'Audi A6 2009-2011 2.7 TDI, 2009, Diesel',</td>\n",
       "      <td>129000</td>\n",
       "      <td>Diesel</td>\n",
       "      <td>2009</td>\n",
       "      <td>'THANE WEST, THANE',</td>\n",
       "      <td>575000</td>\n",
       "    </tr>\n",
       "    <tr>\n",
       "      <th>6</th>\n",
       "      <td>'Mercedes-Benz New C-Class C 250 CDI Elegance...</td>\n",
       "      <td>89000</td>\n",
       "      <td>Diesel</td>\n",
       "      <td>2011</td>\n",
       "      <td>'ANDHERI EAST, MUMBAI',</td>\n",
       "      <td>700000</td>\n",
       "    </tr>\n",
       "    <tr>\n",
       "      <th>7</th>\n",
       "      <td>'Audi A4 2008-2014 2.0 TDI Celebration Editio...</td>\n",
       "      <td>60000</td>\n",
       "      <td>Diesel</td>\n",
       "      <td>2008</td>\n",
       "      <td>'DAHISAR EAST, MUMBAI'</td>\n",
       "      <td>580000</td>\n",
       "    </tr>\n",
       "    <tr>\n",
       "      <th>8</th>\n",
       "      <td>'2011 Model Tata Safari',</td>\n",
       "      <td>76000</td>\n",
       "      <td>NaN</td>\n",
       "      <td>2011</td>\n",
       "      <td>'PEROORKADA, THIRUVANANTHAPURAM',</td>\n",
       "      <td>410000</td>\n",
       "    </tr>\n",
       "    <tr>\n",
       "      <th>9</th>\n",
       "      <td>'Tata Safari for sale',</td>\n",
       "      <td>107000</td>\n",
       "      <td>NaN</td>\n",
       "      <td>2008</td>\n",
       "      <td>'VATTIYOORKAVU, THIRUVANANTHAPURAM',</td>\n",
       "      <td>350000</td>\n",
       "    </tr>\n",
       "    <tr>\n",
       "      <th>10</th>\n",
       "      <td>'2009 Tata Safari Diesel Well Maintained',</td>\n",
       "      <td>138000</td>\n",
       "      <td>Diesel</td>\n",
       "      <td>2009</td>\n",
       "      <td>'PATTOM, THIRUVANANTHAPURAM',</td>\n",
       "      <td>325000</td>\n",
       "    </tr>\n",
       "    <tr>\n",
       "      <th>11</th>\n",
       "      <td>'Fiat Linea 2007-2013 Emotion Pack (Diesel), ...</td>\n",
       "      <td>68000</td>\n",
       "      <td>Diesel</td>\n",
       "      <td>2013</td>\n",
       "      <td>'KARAMANA, THIRUVANANTHAPURAM',</td>\n",
       "      <td>295000</td>\n",
       "    </tr>\n",
       "    <tr>\n",
       "      <th>12</th>\n",
       "      <td>'Company service tvm regi accidentfree call',</td>\n",
       "      <td>145</td>\n",
       "      <td>NaN</td>\n",
       "      <td>2014</td>\n",
       "      <td>'VATTAPARA, THIRUVANANTHAPURAM',</td>\n",
       "      <td>500000</td>\n",
       "    </tr>\n",
       "    <tr>\n",
       "      <th>13</th>\n",
       "      <td>'Honda City 2008-2011 1.5 V MT Exclusive, 201...</td>\n",
       "      <td>150000</td>\n",
       "      <td>Petrol</td>\n",
       "      <td>2010</td>\n",
       "      <td>'NANDAVANAM, THIRUVANANTHAPURAM',</td>\n",
       "      <td>315000</td>\n",
       "    </tr>\n",
       "    <tr>\n",
       "      <th>14</th>\n",
       "      <td>'Honda City 2010 Petrol Good Condition',</td>\n",
       "      <td>152000</td>\n",
       "      <td>Petrol</td>\n",
       "      <td>2010</td>\n",
       "      <td>'KALADY, THIRUVANANTHAPURAM',</td>\n",
       "      <td>325000</td>\n",
       "    </tr>\n",
       "    <tr>\n",
       "      <th>15</th>\n",
       "      <td>'Tata Cars available',</td>\n",
       "      <td>0</td>\n",
       "      <td>NaN</td>\n",
       "      <td>2021</td>\n",
       "      <td>'NEERAMANKARA, THIRUVANANTHAPURAM',</td>\n",
       "      <td>500000</td>\n",
       "    </tr>\n",
       "    <tr>\n",
       "      <th>16</th>\n",
       "      <td>'Tata Cars Available',</td>\n",
       "      <td>0</td>\n",
       "      <td>NaN</td>\n",
       "      <td>2021</td>\n",
       "      <td>'NEERAMANKARA, THIRUVANANTHAPURAM',</td>\n",
       "      <td>500000</td>\n",
       "    </tr>\n",
       "    <tr>\n",
       "      <th>17</th>\n",
       "      <td>'Tata cars available',</td>\n",
       "      <td>0</td>\n",
       "      <td>NaN</td>\n",
       "      <td>2021</td>\n",
       "      <td>'NEERAMANKARA, THIRUVANANTHAPURAM',</td>\n",
       "      <td>500000</td>\n",
       "    </tr>\n",
       "    <tr>\n",
       "      <th>18</th>\n",
       "      <td>'Mahindra Xylo D4, 2012, Diesel',</td>\n",
       "      <td>80000</td>\n",
       "      <td>Diesel</td>\n",
       "      <td>2012</td>\n",
       "      <td>'GOWRI NAGAR, THIRUVANANTHAPURAM',</td>\n",
       "      <td>380000</td>\n",
       "    </tr>\n",
       "    <tr>\n",
       "      <th>19</th>\n",
       "      <td>'Mahindra Xylo 2009-2011 E4, 2011, Diesel',</td>\n",
       "      <td>160000</td>\n",
       "      <td>Diesel</td>\n",
       "      <td>2011</td>\n",
       "      <td>'ANAYARA, THIRUVANANTHAPURAM',</td>\n",
       "      <td>310000</td>\n",
       "    </tr>\n",
       "    <tr>\n",
       "      <th>20</th>\n",
       "      <td>'Mahindra Xylo E4 2012 Diesel Good Condition',</td>\n",
       "      <td>102000</td>\n",
       "      <td>Diesel</td>\n",
       "      <td>2012</td>\n",
       "      <td>'KARAMANA, THIRUVANANTHAPURAM',</td>\n",
       "      <td>320000</td>\n",
       "    </tr>\n",
       "    <tr>\n",
       "      <th>21</th>\n",
       "      <td>'Mahindra Xylo 2010 Diesel 1 Km Driven'</td>\n",
       "      <td>1</td>\n",
       "      <td>Diesel</td>\n",
       "      <td>2010</td>\n",
       "      <td>'ANTHIYOORKONAM, THIRUVANANTHAPURAM'</td>\n",
       "      <td>295000</td>\n",
       "    </tr>\n",
       "    <tr>\n",
       "      <th>22</th>\n",
       "      <td>'Mahindra maximo',</td>\n",
       "      <td>119000</td>\n",
       "      <td>NaN</td>\n",
       "      <td>2012</td>\n",
       "      <td>'AMBALLUR, PUTHUKKAD',</td>\n",
       "      <td>149999</td>\n",
       "    </tr>\n",
       "    <tr>\n",
       "      <th>23</th>\n",
       "      <td>'Mahindra maximo mini van',</td>\n",
       "      <td>72000</td>\n",
       "      <td>NaN</td>\n",
       "      <td>2011</td>\n",
       "      <td>'TANA, IRINJALAKUDA',</td>\n",
       "      <td>180000</td>\n",
       "    </tr>\n",
       "    <tr>\n",
       "      <th>24</th>\n",
       "      <td>'Tata Sumo Victa 2005 Diesel 112000 Km Driven',</td>\n",
       "      <td>112000</td>\n",
       "      <td>Diesel</td>\n",
       "      <td>2005</td>\n",
       "      <td>'KODAKARA, THRISSUR',</td>\n",
       "      <td>130000</td>\n",
       "    </tr>\n",
       "    <tr>\n",
       "      <th>25</th>\n",
       "      <td>'Tata Nano 2013 Petrol Good Condition',</td>\n",
       "      <td>37350</td>\n",
       "      <td>Petrol</td>\n",
       "      <td>2013</td>\n",
       "      <td>'KODAKARA, THRISSUR',</td>\n",
       "      <td>160000</td>\n",
       "    </tr>\n",
       "    <tr>\n",
       "      <th>26</th>\n",
       "      <td>'For sale 2009 model .XYLO E2 M- Eagle CRDE.a...</td>\n",
       "      <td>122000</td>\n",
       "      <td>NaN</td>\n",
       "      <td>2009</td>\n",
       "      <td>'MAHAPURAM, IRINJALAKUDA'</td>\n",
       "      <td>188500</td>\n",
       "    </tr>\n",
       "    <tr>\n",
       "      <th>27</th>\n",
       "      <td>'BMW 6 Series 2013-2015 640d Gran Coupe, 2013,...</td>\n",
       "      <td>34000</td>\n",
       "      <td>Diesel</td>\n",
       "      <td>2013</td>\n",
       "      <td>'BORIVALI WEST, MUMBAI',</td>\n",
       "      <td>3200000</td>\n",
       "    </tr>\n",
       "    <tr>\n",
       "      <th>28</th>\n",
       "      <td>'BMW 6 Series 640d Gran Coupe, 2013, Diesel',</td>\n",
       "      <td>34000</td>\n",
       "      <td>Diesel</td>\n",
       "      <td>2013</td>\n",
       "      <td>'KANDIVALI WEST, MUMBAI',</td>\n",
       "      <td>3199000</td>\n",
       "    </tr>\n",
       "    <tr>\n",
       "      <th>29</th>\n",
       "      <td>'BMW 6 Series 640d Gran Coupe, 2013, Diesel',</td>\n",
       "      <td>34000</td>\n",
       "      <td>Diesel</td>\n",
       "      <td>2013</td>\n",
       "      <td>'BORIVALI WEST, MUMBAI',</td>\n",
       "      <td>2899999</td>\n",
       "    </tr>\n",
       "    <tr>\n",
       "      <th>30</th>\n",
       "      <td>'BMW X6 2009-2014 xDrive 40d, 2013, Diesel'</td>\n",
       "      <td>15000</td>\n",
       "      <td>Diesel</td>\n",
       "      <td>2013</td>\n",
       "      <td>'BORIVALI WEST, MUMBAI'</td>\n",
       "      <td>3999999</td>\n",
       "    </tr>\n",
       "    <tr>\n",
       "      <th>31</th>\n",
       "      <td>'2015 Maruti Alto 800',</td>\n",
       "      <td>50024</td>\n",
       "      <td>Petrol</td>\n",
       "      <td>2015</td>\n",
       "      <td>'New Delhi'</td>\n",
       "      <td>270399</td>\n",
       "    </tr>\n",
       "    <tr>\n",
       "      <th>32</th>\n",
       "      <td>'2017 Renault Kwid',</td>\n",
       "      <td>32258</td>\n",
       "      <td>Petrol</td>\n",
       "      <td>2017</td>\n",
       "      <td>'New Delhi'</td>\n",
       "      <td>275899</td>\n",
       "    </tr>\n",
       "    <tr>\n",
       "      <th>33</th>\n",
       "      <td>'2015 Maruti Alto K10',</td>\n",
       "      <td>129709</td>\n",
       "      <td>Petrol</td>\n",
       "      <td>2015</td>\n",
       "      <td>'New Delhi'</td>\n",
       "      <td>258699</td>\n",
       "    </tr>\n",
       "    <tr>\n",
       "      <th>34</th>\n",
       "      <td>'2020 Maruti Alto',</td>\n",
       "      <td>15032</td>\n",
       "      <td>Petrol</td>\n",
       "      <td>2020</td>\n",
       "      <td>'New Delhi'</td>\n",
       "      <td>372099</td>\n",
       "    </tr>\n",
       "    <tr>\n",
       "      <th>35</th>\n",
       "      <td>'2015 Maruti Ritz',</td>\n",
       "      <td>2723</td>\n",
       "      <td>Petrol</td>\n",
       "      <td>2015</td>\n",
       "      <td>'New Delhi'</td>\n",
       "      <td>374499</td>\n",
       "    </tr>\n",
       "    <tr>\n",
       "      <th>36</th>\n",
       "      <td>'2015 Maruti Alto 800',</td>\n",
       "      <td>22091</td>\n",
       "      <td>Petrol</td>\n",
       "      <td>2015</td>\n",
       "      <td>'New Delhi'</td>\n",
       "      <td>304999</td>\n",
       "    </tr>\n",
       "  </tbody>\n",
       "</table>\n",
       "</div>"
      ],
      "text/plain": [
       "                                      Model(used car)         Km driven  \\\n",
       "0                  'BMW 3 Series 320d, 2011, Diesel',             88000   \n",
       "1            'BMW 3 Series 320d Sedan, 2010, Diesel',            120000   \n",
       "2                  'BMW 3 Series 320d, 2011, Diesel',             88000   \n",
       "3                     'Audi A6 35 TDI, 2007, Diesel',             62000   \n",
       "4                                  'BMW 530d Diesel',             96000   \n",
       "5          'Audi A6 2009-2011 2.7 TDI, 2009, Diesel',            129000   \n",
       "6    'Mercedes-Benz New C-Class C 250 CDI Elegance...             89000   \n",
       "7    'Audi A4 2008-2014 2.0 TDI Celebration Editio...             60000   \n",
       "8                           '2011 Model Tata Safari',             76000   \n",
       "9                             'Tata Safari for sale',            107000   \n",
       "10         '2009 Tata Safari Diesel Well Maintained',            138000   \n",
       "11   'Fiat Linea 2007-2013 Emotion Pack (Diesel), ...             68000   \n",
       "12      'Company service tvm regi accidentfree call',               145   \n",
       "13   'Honda City 2008-2011 1.5 V MT Exclusive, 201...            150000   \n",
       "14           'Honda City 2010 Petrol Good Condition',            152000   \n",
       "15                             'Tata Cars available',                 0   \n",
       "16                             'Tata Cars Available',                 0   \n",
       "17                             'Tata cars available',                 0   \n",
       "18                  'Mahindra Xylo D4, 2012, Diesel',             80000   \n",
       "19        'Mahindra Xylo 2009-2011 E4, 2011, Diesel',            160000   \n",
       "20     'Mahindra Xylo E4 2012 Diesel Good Condition',            102000   \n",
       "21            'Mahindra Xylo 2010 Diesel 1 Km Driven'                 1   \n",
       "22                                 'Mahindra maximo',            119000   \n",
       "23                        'Mahindra maximo mini van',             72000   \n",
       "24    'Tata Sumo Victa 2005 Diesel 112000 Km Driven',            112000   \n",
       "25            'Tata Nano 2013 Petrol Good Condition',             37350   \n",
       "26   'For sale 2009 model .XYLO E2 M- Eagle CRDE.a...            122000   \n",
       "27  'BMW 6 Series 2013-2015 640d Gran Coupe, 2013,...             34000   \n",
       "28      'BMW 6 Series 640d Gran Coupe, 2013, Diesel',             34000   \n",
       "29      'BMW 6 Series 640d Gran Coupe, 2013, Diesel',             34000   \n",
       "30        'BMW X6 2009-2014 xDrive 40d, 2013, Diesel'             15000   \n",
       "31                            '2015 Maruti Alto 800',             50024   \n",
       "32                               '2017 Renault Kwid',             32258   \n",
       "33                            '2015 Maruti Alto K10',            129709   \n",
       "34                                '2020 Maruti Alto',             15032   \n",
       "35                                '2015 Maruti Ritz',              2723   \n",
       "36                            '2015 Maruti Alto 800',             22091   \n",
       "\n",
       "       Fuel     year of purchase                               Location  \\\n",
       "0    Diesel                 2011                'ANDHERI EAST, MUMBAI',   \n",
       "1    Diesel                 2010               'GOREGAON EAST, MUMBAI',   \n",
       "2    Diesel                 2011                   'THANE WEST, THANE',   \n",
       "3    Diesel                 2007           'THANE BELAPUR ROAD, THANE',   \n",
       "4    Diesel                 2008                'ANDHERI EAST, MUMBAI',   \n",
       "5    Diesel                 2009                   'THANE WEST, THANE',   \n",
       "6    Diesel                 2011                'ANDHERI EAST, MUMBAI',   \n",
       "7    Diesel                 2008                 'DAHISAR EAST, MUMBAI'   \n",
       "8       NaN                 2011      'PEROORKADA, THIRUVANANTHAPURAM',   \n",
       "9       NaN                 2008   'VATTIYOORKAVU, THIRUVANANTHAPURAM',   \n",
       "10   Diesel                 2009          'PATTOM, THIRUVANANTHAPURAM',   \n",
       "11   Diesel                 2013        'KARAMANA, THIRUVANANTHAPURAM',   \n",
       "12      NaN                 2014       'VATTAPARA, THIRUVANANTHAPURAM',   \n",
       "13   Petrol                 2010      'NANDAVANAM, THIRUVANANTHAPURAM',   \n",
       "14   Petrol                 2010          'KALADY, THIRUVANANTHAPURAM',   \n",
       "15      NaN                 2021    'NEERAMANKARA, THIRUVANANTHAPURAM',   \n",
       "16      NaN                 2021    'NEERAMANKARA, THIRUVANANTHAPURAM',   \n",
       "17      NaN                 2021    'NEERAMANKARA, THIRUVANANTHAPURAM',   \n",
       "18   Diesel                 2012     'GOWRI NAGAR, THIRUVANANTHAPURAM',   \n",
       "19   Diesel                 2011         'ANAYARA, THIRUVANANTHAPURAM',   \n",
       "20   Diesel                 2012        'KARAMANA, THIRUVANANTHAPURAM',   \n",
       "21   Diesel                 2010   'ANTHIYOORKONAM, THIRUVANANTHAPURAM'   \n",
       "22      NaN                 2012                 'AMBALLUR, PUTHUKKAD',   \n",
       "23      NaN                 2011                  'TANA, IRINJALAKUDA',   \n",
       "24   Diesel                 2005                  'KODAKARA, THRISSUR',   \n",
       "25   Petrol                 2013                  'KODAKARA, THRISSUR',   \n",
       "26      NaN                 2009              'MAHAPURAM, IRINJALAKUDA'   \n",
       "27   Diesel                 2013               'BORIVALI WEST, MUMBAI',   \n",
       "28   Diesel                 2013              'KANDIVALI WEST, MUMBAI',   \n",
       "29   Diesel                 2013               'BORIVALI WEST, MUMBAI',   \n",
       "30   Diesel                 2013                'BORIVALI WEST, MUMBAI'   \n",
       "31   Petrol                 2015                            'New Delhi'   \n",
       "32   Petrol                 2017                            'New Delhi'   \n",
       "33   Petrol                 2015                            'New Delhi'   \n",
       "34   Petrol                 2020                            'New Delhi'   \n",
       "35   Petrol                 2015                            'New Delhi'   \n",
       "36   Petrol                 2015                            'New Delhi'   \n",
       "\n",
       "                Price  \n",
       "0              695000  \n",
       "1              545000  \n",
       "2              695000  \n",
       "3              549000  \n",
       "4              620000  \n",
       "5              575000  \n",
       "6              700000  \n",
       "7              580000  \n",
       "8              410000  \n",
       "9              350000  \n",
       "10             325000  \n",
       "11             295000  \n",
       "12             500000  \n",
       "13             315000  \n",
       "14             325000  \n",
       "15             500000  \n",
       "16             500000  \n",
       "17             500000  \n",
       "18             380000  \n",
       "19             310000  \n",
       "20             320000  \n",
       "21             295000  \n",
       "22             149999  \n",
       "23             180000  \n",
       "24             130000  \n",
       "25             160000  \n",
       "26             188500  \n",
       "27            3200000  \n",
       "28            3199000  \n",
       "29            2899999  \n",
       "30            3999999  \n",
       "31             270399  \n",
       "32             275899  \n",
       "33             258699  \n",
       "34             372099  \n",
       "35             374499  \n",
       "36             304999  "
      ]
     },
     "execution_count": 4,
     "metadata": {},
     "output_type": "execute_result"
    }
   ],
   "source": [
    "df"
   ]
  },
  {
   "cell_type": "code",
   "execution_count": 5,
   "id": "124a4e66",
   "metadata": {},
   "outputs": [
    {
     "data": {
      "text/plain": [
       "Index(['                                 Model(used car)', '       Km driven',\n",
       "       '    Fuel', '   year of purchase',\n",
       "       '                           Location', '            Price'],\n",
       "      dtype='object')"
      ]
     },
     "execution_count": 5,
     "metadata": {},
     "output_type": "execute_result"
    }
   ],
   "source": [
    "df.columns   #Name of the columns in the dataset"
   ]
  },
  {
   "cell_type": "code",
   "execution_count": 6,
   "id": "a5c01da6",
   "metadata": {},
   "outputs": [
    {
     "name": "stdout",
     "output_type": "stream",
     "text": [
      "<class 'pandas.core.frame.DataFrame'>\n",
      "RangeIndex: 37 entries, 0 to 36\n",
      "Data columns (total 6 columns):\n",
      " #   Column                                            Non-Null Count  Dtype \n",
      "---  ------                                            --------------  ----- \n",
      " 0                                    Model(used car)  37 non-null     object\n",
      " 1          Km driven                                  37 non-null     int64 \n",
      " 2       Fuel                                          28 non-null     object\n",
      " 3      year of purchase                               37 non-null     int64 \n",
      " 4                              Location               37 non-null     object\n",
      " 5               Price                                 37 non-null     int64 \n",
      "dtypes: int64(3), object(3)\n",
      "memory usage: 1.9+ KB\n"
     ]
    }
   ],
   "source": [
    "#Checking the info() method to get an a general idea about our data\n",
    "df.info()"
   ]
  },
  {
   "cell_type": "code",
   "execution_count": 7,
   "id": "7d5d47a7",
   "metadata": {},
   "outputs": [
    {
     "data": {
      "text/plain": [
       "                                 Model(used car)    0\n",
       "       Km driven                                    0\n",
       "    Fuel                                            9\n",
       "   year of purchase                                 0\n",
       "                           Location                 0\n",
       "            Price                                   0\n",
       "dtype: int64"
      ]
     },
     "execution_count": 7,
     "metadata": {},
     "output_type": "execute_result"
    }
   ],
   "source": [
    "#Lets check the null values if any\n",
    "df.isnull().sum()"
   ]
  },
  {
   "cell_type": "code",
   "execution_count": 8,
   "id": "16f953b7",
   "metadata": {},
   "outputs": [],
   "source": [
    "#There are 9 null values present in the column 'Fuel'"
   ]
  },
  {
   "cell_type": "code",
   "execution_count": 9,
   "id": "0c8e357c",
   "metadata": {},
   "outputs": [
    {
     "data": {
      "text/plain": [
       "(37, 6)"
      ]
     },
     "execution_count": 9,
     "metadata": {},
     "output_type": "execute_result"
    }
   ],
   "source": [
    "#Shape of the dataset\n",
    "df.shape"
   ]
  },
  {
   "cell_type": "code",
   "execution_count": 10,
   "id": "45ad35bc",
   "metadata": {},
   "outputs": [
    {
     "data": {
      "text/plain": [
       "Diesel    19\n",
       "Petrol     9\n",
       "Name:     Fuel, dtype: int64"
      ]
     },
     "execution_count": 10,
     "metadata": {},
     "output_type": "execute_result"
    }
   ],
   "source": [
    "#Analysing data of the column 'Fuel'\n",
    "df['    Fuel'].value_counts()"
   ]
  },
  {
   "cell_type": "code",
   "execution_count": 11,
   "id": "23822aff",
   "metadata": {},
   "outputs": [],
   "source": [
    "#Removing the null values from the column 'Fuel'\n",
    "#replace the values with mode\n",
    "\n",
    "from sklearn.impute import SimpleImputer\n",
    "imp=SimpleImputer(strategy=\"most_frequent\")\n",
    "df['    Fuel']=imp.fit_transform(df['    Fuel'].values.reshape(-1,1))"
   ]
  },
  {
   "cell_type": "code",
   "execution_count": 12,
   "id": "569bf8b9",
   "metadata": {},
   "outputs": [
    {
     "data": {
      "text/plain": [
       "                                 Model(used car)    0\n",
       "       Km driven                                    0\n",
       "    Fuel                                            0\n",
       "   year of purchase                                 0\n",
       "                           Location                 0\n",
       "            Price                                   0\n",
       "dtype: int64"
      ]
     },
     "execution_count": 12,
     "metadata": {},
     "output_type": "execute_result"
    }
   ],
   "source": [
    "#Lets check the null values again if they are removed or not\n",
    "df.isnull().sum()"
   ]
  },
  {
   "cell_type": "markdown",
   "id": "d884dcd4",
   "metadata": {},
   "source": [
    " - Now there are no null values present.\n",
    "\n",
    " - Now,we will encode the columns so that we can convert the object olumns into numeric.\n",
    "\n",
    " - We will go with Label Encoding"
   ]
  },
  {
   "cell_type": "code",
   "execution_count": 13,
   "id": "5a3997bd",
   "metadata": {},
   "outputs": [],
   "source": [
    "#Label Encoder\n",
    "from sklearn.preprocessing import LabelEncoder\n",
    "\n",
    "le = LabelEncoder()\n",
    "df['                                 Model(used car)'] = le.fit_transform(df['                                 Model(used car)'])\n",
    "df['    Fuel'] = le.fit_transform(df['    Fuel'])\n",
    "df['                           Location'] = le.fit_transform(df['                           Location'])"
   ]
  },
  {
   "cell_type": "code",
   "execution_count": 14,
   "id": "a91260ab",
   "metadata": {},
   "outputs": [
    {
     "data": {
      "text/html": [
       "<div>\n",
       "<style scoped>\n",
       "    .dataframe tbody tr th:only-of-type {\n",
       "        vertical-align: middle;\n",
       "    }\n",
       "\n",
       "    .dataframe tbody tr th {\n",
       "        vertical-align: top;\n",
       "    }\n",
       "\n",
       "    .dataframe thead th {\n",
       "        text-align: right;\n",
       "    }\n",
       "</style>\n",
       "<table border=\"1\" class=\"dataframe\">\n",
       "  <thead>\n",
       "    <tr style=\"text-align: right;\">\n",
       "      <th></th>\n",
       "      <th>Model(used car)</th>\n",
       "      <th>Km driven</th>\n",
       "      <th>Fuel</th>\n",
       "      <th>year of purchase</th>\n",
       "      <th>Location</th>\n",
       "      <th>Price</th>\n",
       "    </tr>\n",
       "  </thead>\n",
       "  <tbody>\n",
       "    <tr>\n",
       "      <th>0</th>\n",
       "      <td>33</td>\n",
       "      <td>88000</td>\n",
       "      <td>0</td>\n",
       "      <td>2011</td>\n",
       "      <td>23</td>\n",
       "      <td>695000</td>\n",
       "    </tr>\n",
       "    <tr>\n",
       "      <th>1</th>\n",
       "      <td>9</td>\n",
       "      <td>120000</td>\n",
       "      <td>0</td>\n",
       "      <td>2010</td>\n",
       "      <td>7</td>\n",
       "      <td>545000</td>\n",
       "    </tr>\n",
       "    <tr>\n",
       "      <th>2</th>\n",
       "      <td>10</td>\n",
       "      <td>88000</td>\n",
       "      <td>0</td>\n",
       "      <td>2011</td>\n",
       "      <td>19</td>\n",
       "      <td>695000</td>\n",
       "    </tr>\n",
       "    <tr>\n",
       "      <th>3</th>\n",
       "      <td>8</td>\n",
       "      <td>62000</td>\n",
       "      <td>0</td>\n",
       "      <td>2007</td>\n",
       "      <td>18</td>\n",
       "      <td>549000</td>\n",
       "    </tr>\n",
       "    <tr>\n",
       "      <th>4</th>\n",
       "      <td>11</td>\n",
       "      <td>96000</td>\n",
       "      <td>0</td>\n",
       "      <td>2008</td>\n",
       "      <td>2</td>\n",
       "      <td>620000</td>\n",
       "    </tr>\n",
       "  </tbody>\n",
       "</table>\n",
       "</div>"
      ],
      "text/plain": [
       "                                    Model(used car)         Km driven  \\\n",
       "0                                                33             88000   \n",
       "1                                                 9            120000   \n",
       "2                                                10             88000   \n",
       "3                                                 8             62000   \n",
       "4                                                11             96000   \n",
       "\n",
       "       Fuel     year of purchase                             Location  \\\n",
       "0         0                 2011                                   23   \n",
       "1         0                 2010                                    7   \n",
       "2         0                 2011                                   19   \n",
       "3         0                 2007                                   18   \n",
       "4         0                 2008                                    2   \n",
       "\n",
       "               Price  \n",
       "0             695000  \n",
       "1             545000  \n",
       "2             695000  \n",
       "3             549000  \n",
       "4             620000  "
      ]
     },
     "execution_count": 14,
     "metadata": {},
     "output_type": "execute_result"
    }
   ],
   "source": [
    "#Now lets check the first five rows of the dataset\n",
    "df.head()"
   ]
  },
  {
   "cell_type": "markdown",
   "id": "d798076e",
   "metadata": {},
   "source": [
    "Now our data is ready for Machine Learning."
   ]
  },
  {
   "cell_type": "code",
   "execution_count": 15,
   "id": "6be7dd57",
   "metadata": {},
   "outputs": [
    {
     "data": {
      "text/html": [
       "<div>\n",
       "<style scoped>\n",
       "    .dataframe tbody tr th:only-of-type {\n",
       "        vertical-align: middle;\n",
       "    }\n",
       "\n",
       "    .dataframe tbody tr th {\n",
       "        vertical-align: top;\n",
       "    }\n",
       "\n",
       "    .dataframe thead th {\n",
       "        text-align: right;\n",
       "    }\n",
       "</style>\n",
       "<table border=\"1\" class=\"dataframe\">\n",
       "  <thead>\n",
       "    <tr style=\"text-align: right;\">\n",
       "      <th></th>\n",
       "      <th>Model(used car)</th>\n",
       "      <th>Km driven</th>\n",
       "      <th>Fuel</th>\n",
       "      <th>year of purchase</th>\n",
       "      <th>Location</th>\n",
       "      <th>Price</th>\n",
       "    </tr>\n",
       "  </thead>\n",
       "  <tbody>\n",
       "    <tr>\n",
       "      <th>Model(used car)</th>\n",
       "      <td>1.000000</td>\n",
       "      <td>-0.016963</td>\n",
       "      <td>-0.288842</td>\n",
       "      <td>0.040026</td>\n",
       "      <td>0.490608</td>\n",
       "      <td>-0.013057</td>\n",
       "    </tr>\n",
       "    <tr>\n",
       "      <th>Km driven</th>\n",
       "      <td>-0.016963</td>\n",
       "      <td>1.000000</td>\n",
       "      <td>-0.051322</td>\n",
       "      <td>-0.643592</td>\n",
       "      <td>0.133977</td>\n",
       "      <td>-0.307969</td>\n",
       "    </tr>\n",
       "    <tr>\n",
       "      <th>Fuel</th>\n",
       "      <td>-0.288842</td>\n",
       "      <td>-0.051322</td>\n",
       "      <td>1.000000</td>\n",
       "      <td>0.309357</td>\n",
       "      <td>-0.495556</td>\n",
       "      <td>-0.251713</td>\n",
       "    </tr>\n",
       "    <tr>\n",
       "      <th>year of purchase</th>\n",
       "      <td>0.040026</td>\n",
       "      <td>-0.643592</td>\n",
       "      <td>0.309357</td>\n",
       "      <td>1.000000</td>\n",
       "      <td>-0.193101</td>\n",
       "      <td>0.059986</td>\n",
       "    </tr>\n",
       "    <tr>\n",
       "      <th>Location</th>\n",
       "      <td>0.490608</td>\n",
       "      <td>0.133977</td>\n",
       "      <td>-0.495556</td>\n",
       "      <td>-0.193101</td>\n",
       "      <td>1.000000</td>\n",
       "      <td>0.007689</td>\n",
       "    </tr>\n",
       "    <tr>\n",
       "      <th>Price</th>\n",
       "      <td>-0.013057</td>\n",
       "      <td>-0.307969</td>\n",
       "      <td>-0.251713</td>\n",
       "      <td>0.059986</td>\n",
       "      <td>0.007689</td>\n",
       "      <td>1.000000</td>\n",
       "    </tr>\n",
       "  </tbody>\n",
       "</table>\n",
       "</div>"
      ],
      "text/plain": [
       "                                                                                   Model(used car)  \\\n",
       "                                 Model(used car)                                          1.000000   \n",
       "       Km driven                                                                         -0.016963   \n",
       "    Fuel                                                                                 -0.288842   \n",
       "   year of purchase                                                                       0.040026   \n",
       "                           Location                                                       0.490608   \n",
       "            Price                                                                        -0.013057   \n",
       "\n",
       "                                                         Km driven      Fuel  \\\n",
       "                                 Model(used car)         -0.016963 -0.288842   \n",
       "       Km driven                                          1.000000 -0.051322   \n",
       "    Fuel                                                 -0.051322  1.000000   \n",
       "   year of purchase                                      -0.643592  0.309357   \n",
       "                           Location                       0.133977 -0.495556   \n",
       "            Price                                        -0.307969 -0.251713   \n",
       "\n",
       "                                                     year of purchase  \\\n",
       "                                 Model(used car)             0.040026   \n",
       "       Km driven                                            -0.643592   \n",
       "    Fuel                                                     0.309357   \n",
       "   year of purchase                                          1.000000   \n",
       "                           Location                         -0.193101   \n",
       "            Price                                            0.059986   \n",
       "\n",
       "                                                                             Location  \\\n",
       "                                 Model(used car)                             0.490608   \n",
       "       Km driven                                                             0.133977   \n",
       "    Fuel                                                                    -0.495556   \n",
       "   year of purchase                                                         -0.193101   \n",
       "                           Location                                          1.000000   \n",
       "            Price                                                            0.007689   \n",
       "\n",
       "                                                              Price  \n",
       "                                 Model(used car)          -0.013057  \n",
       "       Km driven                                          -0.307969  \n",
       "    Fuel                                                  -0.251713  \n",
       "   year of purchase                                        0.059986  \n",
       "                           Location                        0.007689  \n",
       "            Price                                          1.000000  "
      ]
     },
     "execution_count": 15,
     "metadata": {},
     "output_type": "execute_result"
    }
   ],
   "source": [
    "#Checking for correlation\n",
    "df.corr()"
   ]
  },
  {
   "cell_type": "code",
   "execution_count": 16,
   "id": "7920fcad",
   "metadata": {},
   "outputs": [
    {
     "data": {
      "text/plain": [
       "<AxesSubplot:>"
      ]
     },
     "execution_count": 16,
     "metadata": {},
     "output_type": "execute_result"
    },
    {
     "data": {
      "image/png": "[encoded data removed]",
      "text/plain": [
       "<Figure size 1008x1008 with 2 Axes>"
      ]
     },
     "metadata": {
      "needs_background": "light"
     },
     "output_type": "display_data"
    }
   ],
   "source": [
    "#Visualizing the correlation\n",
    "plt.figure(figsize=(14,14))  \n",
    "sns.heatmap(df.corr(), annot=True, fmt='.0%')"
   ]
  },
  {
   "cell_type": "markdown",
   "id": "964c7494",
   "metadata": {},
   "source": [
    "From the correlation matrix,we can see that less columns are positively correlated with the target variable 'Price'.We can see that the independent variables are highly correlated with each other,for example,'Model(used car)' is highly correlated with 'Location'."
   ]
  },
  {
   "cell_type": "code",
   "execution_count": 17,
   "id": "508a10fa",
   "metadata": {},
   "outputs": [],
   "source": [
    "#Plotting histogram\n",
    "\n",
    "#A histogram shows the frequency on the vertical axis and the horizontal axis in another dimension. \n",
    "\n",
    "# In this graph, we can also check whether the graph is right skewed, left skewed or the graph is normally distributed graph\n"
   ]
  },
  {
   "cell_type": "code",
   "execution_count": 18,
   "id": "0ef276ae",
   "metadata": {},
   "outputs": [
    {
     "data": {
      "text/plain": [
       "array([[<AxesSubplot:title={'center':'                                 Model(used car)'}>,\n",
       "        <AxesSubplot:title={'center':'       Km driven'}>,\n",
       "        <AxesSubplot:title={'center':'    Fuel'}>,\n",
       "        <AxesSubplot:title={'center':'   year of purchase'}>],\n",
       "       [<AxesSubplot:title={'center':'                           Location'}>,\n",
       "        <AxesSubplot:title={'center':'            Price'}>,\n",
       "        <AxesSubplot:>, <AxesSubplot:>],\n",
       "       [<AxesSubplot:>, <AxesSubplot:>, <AxesSubplot:>, <AxesSubplot:>],\n",
       "       [<AxesSubplot:>, <AxesSubplot:>, <AxesSubplot:>, <AxesSubplot:>]],\n",
       "      dtype=object)"
      ]
     },
     "execution_count": 18,
     "metadata": {},
     "output_type": "execute_result"
    },
    {
     "data": {
      "image/png": "[encoded data removed]",
      "text/plain": [
       "<Figure size 1440x1440 with 16 Axes>"
      ]
     },
     "metadata": {
      "needs_background": "light"
     },
     "output_type": "display_data"
    }
   ],
   "source": [
    "df.hist(figsize=(20,20),grid=True,layout=(4,4),bins=30)"
   ]
  },
  {
   "cell_type": "markdown",
   "id": "f93e53d6",
   "metadata": {},
   "source": [
    "Data is almost normally distributed."
   ]
  },
  {
   "cell_type": "code",
   "execution_count": 19,
   "id": "82a55d60",
   "metadata": {},
   "outputs": [
    {
     "data": {
      "text/plain": [
       "                                 Model(used car)    0.040904\n",
       "       Km driven                                    0.083194\n",
       "    Fuel                                            1.248066\n",
       "   year of purchase                                 0.794666\n",
       "                           Location                 0.081519\n",
       "            Price                                   2.609456\n",
       "dtype: float64"
      ]
     },
     "execution_count": 19,
     "metadata": {},
     "output_type": "execute_result"
    }
   ],
   "source": [
    "#Checking skewness in my data\n",
    "df.skew()"
   ]
  },
  {
   "cell_type": "markdown",
   "id": "0b728163",
   "metadata": {},
   "source": [
    "We will not go for skewness removal for object type columns"
   ]
  },
  {
   "cell_type": "code",
   "execution_count": 20,
   "id": "4d7960f2",
   "metadata": {},
   "outputs": [
    {
     "data": {
      "text/plain": [
       "                                 Model(used car)       AxesSubplot(0.125,0.71587;0.133621x0.16413)\n",
       "       Km driven                                    AxesSubplot(0.285345,0.71587;0.133621x0.16413)\n",
       "    Fuel                                             AxesSubplot(0.44569,0.71587;0.133621x0.16413)\n",
       "   year of purchase                                 AxesSubplot(0.606034,0.71587;0.133621x0.16413)\n",
       "                           Location                 AxesSubplot(0.766379,0.71587;0.133621x0.16413)\n",
       "            Price                                     AxesSubplot(0.125,0.518913;0.133621x0.16413)\n",
       "dtype: object"
      ]
     },
     "execution_count": 20,
     "metadata": {},
     "output_type": "execute_result"
    },
    {
     "data": {
      "image/png": "[encoded data removed]",
      "text/plain": [
       "<Figure size 1080x720 with 20 Axes>"
      ]
     },
     "metadata": {
      "needs_background": "light"
     },
     "output_type": "display_data"
    }
   ],
   "source": [
    "#Checking outliers using boxplots\n",
    "\n",
    "df.plot(kind='box',subplots=True,layout=(4,5),figsize=(15,10))"
   ]
  },
  {
   "cell_type": "markdown",
   "id": "bcfe2fb8",
   "metadata": {},
   "source": [
    "From the boxplots,it is clearly seen that no such outliers are present,so we will not go for outlier removal."
   ]
  },
  {
   "cell_type": "code",
   "execution_count": 21,
   "id": "339f3f62",
   "metadata": {},
   "outputs": [],
   "source": [
    "#Splitting the independent and target variable in x and y\n",
    "\n",
    "x=df.drop('            Price',axis=1)\n",
    "y=df['            Price']"
   ]
  },
  {
   "cell_type": "code",
   "execution_count": 22,
   "id": "2ded7356",
   "metadata": {},
   "outputs": [],
   "source": [
    "#Using StandardScaler to scale the data \n",
    "\n",
    "from sklearn.preprocessing import StandardScaler\n",
    "scale=StandardScaler()\n",
    "x=scale.fit_transform(x)"
   ]
  },
  {
   "cell_type": "code",
   "execution_count": 23,
   "id": "ec0a3ec0",
   "metadata": {},
   "outputs": [
    {
     "name": "stdout",
     "output_type": "stream",
     "text": [
      "r2 score correspond to random state 40 is -0.2575760540849614\n",
      "r2 score correspond to random state 40 is 0.12146506691214565\n",
      "r2 score correspond to random state 40 is 0.8630249616998735\n",
      "r2 score correspond to random state 40 is 0.23001770897900253\n",
      "r2 score correspond to random state 40 is -0.15315110773167628\n",
      "r2 score correspond to random state 41 is 0.3206184095152591\n",
      "r2 score correspond to random state 41 is 0.0013612284247461748\n",
      "r2 score correspond to random state 41 is 0.41401084240218\n",
      "r2 score correspond to random state 41 is -0.06108916956640709\n",
      "r2 score correspond to random state 41 is 0.49957537766449367\n",
      "r2 score correspond to random state 42 is -8.622976465470463\n",
      "r2 score correspond to random state 42 is -1.0408987565889496\n",
      "r2 score correspond to random state 42 is -5.363367166019499\n",
      "r2 score correspond to random state 42 is -2.2274264199995364\n",
      "r2 score correspond to random state 42 is -6.669640145200026\n",
      "r2 score correspond to random state 43 is -0.286936791674703\n",
      "r2 score correspond to random state 43 is 0.05261265122305914\n",
      "r2 score correspond to random state 43 is 0.11413656732478006\n",
      "r2 score correspond to random state 43 is 0.1331176370877002\n",
      "r2 score correspond to random state 43 is -0.3807036490907416\n",
      "r2 score correspond to random state 44 is 0.20713221544718674\n",
      "r2 score correspond to random state 44 is 0.004223209697778785\n",
      "r2 score correspond to random state 44 is -0.19895346828487614\n",
      "r2 score correspond to random state 44 is -0.030802907316243466\n",
      "r2 score correspond to random state 44 is 0.5537410613287757\n",
      "r2 score correspond to random state 45 is -0.27420934236467276\n",
      "r2 score correspond to random state 45 is -0.9254151194114428\n",
      "r2 score correspond to random state 45 is -0.011109702874679828\n",
      "r2 score correspond to random state 45 is -0.5659710419682791\n",
      "r2 score correspond to random state 45 is -0.1053531477338776\n",
      "r2 score correspond to random state 46 is -100.24528459764025\n",
      "r2 score correspond to random state 46 is -26.15492487854198\n",
      "r2 score correspond to random state 46 is -73.51645433501864\n",
      "r2 score correspond to random state 46 is -60.61011903051456\n",
      "r2 score correspond to random state 46 is -107.05555977825851\n",
      "r2 score correspond to random state 47 is -2.826882894757357\n",
      "r2 score correspond to random state 47 is -0.21626559532237266\n",
      "r2 score correspond to random state 47 is -2.7902266826598003\n",
      "r2 score correspond to random state 47 is -0.8958203572985024\n",
      "r2 score correspond to random state 47 is -3.3375865577340393\n",
      "r2 score correspond to random state 48 is -64.55534521298195\n",
      "r2 score correspond to random state 48 is -45.33444096056959\n",
      "r2 score correspond to random state 48 is -33.196618108455446\n",
      "r2 score correspond to random state 48 is -46.068533030703506\n",
      "r2 score correspond to random state 48 is -62.86733413757039\n",
      "r2 score correspond to random state 49 is -0.9175355727186092\n",
      "r2 score correspond to random state 49 is 0.03905165960301504\n",
      "r2 score correspond to random state 49 is 0.3001894971615149\n",
      "r2 score correspond to random state 49 is 0.11749176834059705\n",
      "r2 score correspond to random state 49 is -0.10290003946130599\n",
      "r2 score correspond to random state 50 is -1.9432969075305966\n",
      "r2 score correspond to random state 50 is -0.0811529044191106\n",
      "r2 score correspond to random state 50 is -0.9115762478873364\n",
      "r2 score correspond to random state 50 is -0.053687131501699126\n",
      "r2 score correspond to random state 50 is -1.1186340970747692\n",
      "r2 score correspond to random state 51 is 0.13227983283169786\n",
      "r2 score correspond to random state 51 is -0.2437736051190631\n",
      "r2 score correspond to random state 51 is -0.19843391547551725\n",
      "r2 score correspond to random state 51 is 0.09476675768753595\n",
      "r2 score correspond to random state 51 is 0.3697377029697798\n",
      "r2 score correspond to random state 52 is -3.517199012648482\n",
      "r2 score correspond to random state 52 is -0.7226137885097053\n",
      "r2 score correspond to random state 52 is -1.743831702115036\n",
      "r2 score correspond to random state 52 is -0.481335853460626\n",
      "r2 score correspond to random state 52 is -3.005946760250386\n",
      "r2 score correspond to random state 53 is -0.9787864790102383\n",
      "r2 score correspond to random state 53 is -0.41384380498520623\n",
      "r2 score correspond to random state 53 is -0.9525296351612516\n",
      "r2 score correspond to random state 53 is -0.34638384060632355\n",
      "r2 score correspond to random state 53 is -0.4784470232952409\n",
      "r2 score correspond to random state 54 is 0.017051435466452602\n",
      "r2 score correspond to random state 54 is 0.17099083625874834\n",
      "r2 score correspond to random state 54 is 0.9335569654726195\n",
      "r2 score correspond to random state 54 is 0.1419444380886793\n",
      "r2 score correspond to random state 54 is 0.3237191946881919\n",
      "r2 score correspond to random state 55 is -1.8782267020833552\n",
      "r2 score correspond to random state 55 is -0.07929606045912063\n",
      "r2 score correspond to random state 55 is -0.9230183355829444\n",
      "r2 score correspond to random state 55 is -0.49431026462970795\n",
      "r2 score correspond to random state 55 is -2.0119054661920717\n",
      "r2 score correspond to random state 56 is -0.7726995510745505\n",
      "r2 score correspond to random state 56 is -0.2627283427789282\n",
      "r2 score correspond to random state 56 is -0.6835382123288372\n",
      "r2 score correspond to random state 56 is -0.24083276628999095\n",
      "r2 score correspond to random state 56 is -0.6316494909664656\n",
      "r2 score correspond to random state 57 is -79.74083784801611\n",
      "r2 score correspond to random state 57 is -28.217389381617473\n",
      "r2 score correspond to random state 57 is -63.54935464244515\n",
      "r2 score correspond to random state 57 is -194.1408951612652\n",
      "r2 score correspond to random state 57 is -90.25499222488943\n",
      "r2 score correspond to random state 58 is 0.9651182715933287\n",
      "r2 score correspond to random state 58 is -0.25705121883721804\n",
      "r2 score correspond to random state 58 is 0.4437486264606296\n",
      "r2 score correspond to random state 58 is -0.16324236203315134\n",
      "r2 score correspond to random state 58 is 0.7191914154480733\n",
      "r2 score correspond to random state 59 is -0.7782081447245324\n",
      "r2 score correspond to random state 59 is -0.2908333658518638\n",
      "r2 score correspond to random state 59 is -0.7365089555716477\n",
      "r2 score correspond to random state 59 is -0.18498589872462623\n",
      "r2 score correspond to random state 59 is -0.676747667652764\n",
      "r2 score correspond to random state 60 is 0.9320321791011152\n",
      "r2 score correspond to random state 60 is -0.38438715176453364\n",
      "r2 score correspond to random state 60 is 0.9771832639265329\n",
      "r2 score correspond to random state 60 is 0.13591914885718392\n",
      "r2 score correspond to random state 60 is 0.7959154354596141\n",
      "r2 score correspond to random state 61 is -0.8974417223329889\n",
      "r2 score correspond to random state 61 is -1.8375063498362958\n",
      "r2 score correspond to random state 61 is -0.020421993748327205\n",
      "r2 score correspond to random state 61 is -1.4117269989505656\n",
      "r2 score correspond to random state 61 is -0.79918750112777\n",
      "r2 score correspond to random state 62 is -0.08838791394240819\n",
      "r2 score correspond to random state 62 is -0.15481481046313816\n",
      "r2 score correspond to random state 62 is -0.29506406259323503\n",
      "r2 score correspond to random state 62 is 0.07056051247707873\n",
      "r2 score correspond to random state 62 is 0.37191695127348867\n",
      "r2 score correspond to random state 63 is -1.5293903369654864\n",
      "r2 score correspond to random state 63 is 0.29725989403640773\n",
      "r2 score correspond to random state 63 is 0.8174527152552897\n",
      "r2 score correspond to random state 63 is 0.21014329929113895\n",
      "r2 score correspond to random state 63 is -1.3708574731131202\n",
      "r2 score correspond to random state 64 is 0.44580805247732025\n",
      "r2 score correspond to random state 64 is -0.11547268543337985\n",
      "r2 score correspond to random state 64 is 0.44532969822497726\n",
      "r2 score correspond to random state 64 is -0.1165610606783185\n",
      "r2 score correspond to random state 64 is 0.5000655463450183\n",
      "r2 score correspond to random state 65 is -0.25237366580567366\n",
      "r2 score correspond to random state 65 is -0.0878079624246706\n",
      "r2 score correspond to random state 65 is 0.19205324675081015\n",
      "r2 score correspond to random state 65 is 0.05906754142569626\n",
      "r2 score correspond to random state 65 is -0.07067578878859981\n",
      "r2 score correspond to random state 66 is 0.3665614586484359\n",
      "r2 score correspond to random state 66 is 0.2072923562851039\n",
      "r2 score correspond to random state 66 is 0.44454081289018466\n",
      "r2 score correspond to random state 66 is 0.025630388569428675\n",
      "r2 score correspond to random state 66 is 0.4530872056249714\n",
      "r2 score correspond to random state 67 is -17.670374257563928\n",
      "r2 score correspond to random state 67 is -33.88470447431466\n",
      "r2 score correspond to random state 67 is -16.298955825588184\n",
      "r2 score correspond to random state 67 is -8.697976927313102\n",
      "r2 score correspond to random state 67 is -9.04503387001104\n",
      "r2 score correspond to random state 68 is -0.6208850392793788\n",
      "r2 score correspond to random state 68 is -1.1158807307127274\n",
      "r2 score correspond to random state 68 is 0.01003099636183613\n",
      "r2 score correspond to random state 68 is -1.6092702994149968\n",
      "r2 score correspond to random state 68 is -0.2975886811600934\n",
      "r2 score correspond to random state 69 is -1.1348559431054301\n",
      "r2 score correspond to random state 69 is 0.03657704243311488\n",
      "r2 score correspond to random state 69 is -0.9194588442050109\n",
      "r2 score correspond to random state 69 is -0.007967359741009261\n",
      "r2 score correspond to random state 69 is -0.5668647359423229\n",
      "r2 score correspond to random state 70 is 0.17991963594954807\n",
      "r2 score correspond to random state 70 is -0.020315117345922395\n",
      "r2 score correspond to random state 70 is 0.5758387384811123\n",
      "r2 score correspond to random state 70 is 0.015383140591014977\n",
      "r2 score correspond to random state 70 is 0.5115637121216776\n",
      "r2 score correspond to random state 71 is 0.647132595647649\n",
      "r2 score correspond to random state 71 is -0.027150516562433058\n",
      "r2 score correspond to random state 71 is 0.6300164854157859\n",
      "r2 score correspond to random state 71 is -0.03590388101686259\n",
      "r2 score correspond to random state 71 is 0.7162616076175468\n",
      "r2 score correspond to random state 72 is 0.7274610976806747\n",
      "r2 score correspond to random state 72 is -0.36717457126955133\n",
      "r2 score correspond to random state 72 is 0.9434429565029201\n",
      "r2 score correspond to random state 72 is 0.04529305120223748\n",
      "r2 score correspond to random state 72 is 0.874088635475369\n",
      "r2 score correspond to random state 73 is 0.800330002973156\n",
      "r2 score correspond to random state 73 is 0.0148250326516004\n",
      "r2 score correspond to random state 73 is -1.211567697404766\n",
      "r2 score correspond to random state 73 is 0.12786875927455132\n",
      "r2 score correspond to random state 73 is 0.8320893747728089\n",
      "r2 score correspond to random state 74 is -29.341786765131477\n",
      "r2 score correspond to random state 74 is -33.63891544276596\n",
      "r2 score correspond to random state 74 is -17.374299437894653\n",
      "r2 score correspond to random state 74 is -29.42336694505709\n",
      "r2 score correspond to random state 74 is -6.476549701657534\n",
      "r2 score correspond to random state 75 is 0.5161978164678926\n",
      "r2 score correspond to random state 75 is 0.08842812203098305\n",
      "r2 score correspond to random state 75 is 0.5336818922181548\n",
      "r2 score correspond to random state 75 is 0.07184262409526998\n",
      "r2 score correspond to random state 75 is 0.5249399172285172\n",
      "r2 score correspond to random state 76 is -79.96425821068378\n",
      "r2 score correspond to random state 76 is -25.867904234693174\n",
      "r2 score correspond to random state 76 is -77.33682188762546\n",
      "r2 score correspond to random state 76 is -29.676820866155744\n",
      "r2 score correspond to random state 76 is -77.9921656897229\n",
      "r2 score correspond to random state 77 is 0.9098681621276851\n",
      "r2 score correspond to random state 77 is -0.15101750983301443\n",
      "r2 score correspond to random state 77 is 0.356230592363334\n",
      "r2 score correspond to random state 77 is -0.022223647128891244\n",
      "r2 score correspond to random state 77 is 0.7749056789962155\n",
      "r2 score correspond to random state 78 is -0.8760096922021374\n",
      "r2 score correspond to random state 78 is -0.634524610119104\n",
      "r2 score correspond to random state 78 is 0.04288043133683617\n",
      "r2 score correspond to random state 78 is -0.8392461412458792\n",
      "r2 score correspond to random state 78 is -0.8380404446159753\n",
      "r2 score correspond to random state 79 is 0.5522096139784252\n",
      "r2 score correspond to random state 79 is -0.11908504561828948\n",
      "r2 score correspond to random state 79 is -0.00019888151775937501\n",
      "r2 score correspond to random state 79 is -0.14910151408805516\n",
      "r2 score correspond to random state 79 is 0.510720348372431\n",
      "r2 score correspond to random state 80 is -1.0848308095326038\n",
      "r2 score correspond to random state 80 is -0.06655043127200533\n",
      "r2 score correspond to random state 80 is 0.08592478165633466\n",
      "r2 score correspond to random state 80 is -0.05770703302562574\n",
      "r2 score correspond to random state 80 is -0.5909831037238422\n",
      "r2 score correspond to random state 81 is -2.0198300853561992\n",
      "r2 score correspond to random state 81 is 0.003040994403409547\n",
      "r2 score correspond to random state 81 is -0.8331692272306623\n",
      "r2 score correspond to random state 81 is -0.1038900601249253\n",
      "r2 score correspond to random state 81 is -1.2269836347941796\n",
      "r2 score correspond to random state 82 is -2.5248423561927704\n",
      "r2 score correspond to random state 82 is -0.02847129874670573\n",
      "r2 score correspond to random state 82 is 0.12405233171399221\n",
      "r2 score correspond to random state 82 is 0.06015343045793331\n",
      "r2 score correspond to random state 82 is -1.3073567203081953\n",
      "r2 score correspond to random state 83 is -1.4873881355578806\n",
      "r2 score correspond to random state 83 is 0.04495996584831341\n",
      "r2 score correspond to random state 83 is -0.7017900296443382\n",
      "r2 score correspond to random state 83 is 0.10310993608244179\n",
      "r2 score correspond to random state 83 is -1.3694902258688555\n",
      "r2 score correspond to random state 84 is 0.9470102103184557\n",
      "r2 score correspond to random state 84 is -0.19508047123486483\n",
      "r2 score correspond to random state 84 is -0.24427443169300989\n",
      "r2 score correspond to random state 84 is 0.08816937443998385\n",
      "r2 score correspond to random state 84 is 0.4769209444331072\n",
      "r2 score correspond to random state 85 is -0.8615514664710433\n",
      "r2 score correspond to random state 85 is -0.3417505348641712\n",
      "r2 score correspond to random state 85 is 0.37503757517156866\n",
      "r2 score correspond to random state 85 is -0.03686882767566524\n",
      "r2 score correspond to random state 85 is -0.7799351454937584\n",
      "r2 score correspond to random state 86 is -0.9187060734331796\n",
      "r2 score correspond to random state 86 is -25.348126871072008\n",
      "r2 score correspond to random state 86 is -0.043040241245020594\n",
      "r2 score correspond to random state 86 is -11.354636102188872\n",
      "r2 score correspond to random state 86 is -0.438822398313655\n",
      "r2 score correspond to random state 87 is -0.44987849060663665\n",
      "r2 score correspond to random state 87 is -0.02345468206870538\n",
      "r2 score correspond to random state 87 is 0.6503177252329362\n",
      "r2 score correspond to random state 87 is -0.07266077192139964\n",
      "r2 score correspond to random state 87 is -0.3005334494125351\n",
      "r2 score correspond to random state 88 is -0.5594349276974939\n",
      "r2 score correspond to random state 88 is -0.17815145239178598\n",
      "r2 score correspond to random state 88 is -0.6400831691568787\n",
      "r2 score correspond to random state 88 is -0.17146405918640006\n",
      "r2 score correspond to random state 88 is -0.5685715046059387\n",
      "r2 score correspond to random state 89 is -35.20462573787881\n",
      "r2 score correspond to random state 89 is -75.10340668523762\n",
      "r2 score correspond to random state 89 is -85.73034584355501\n",
      "r2 score correspond to random state 89 is -47.308304906426144\n",
      "r2 score correspond to random state 89 is -40.88146705414015\n",
      "\n",
      "\n",
      "\n",
      "\n",
      "max r2 score correspond to random state 60 is 0.9771832639265329 and model is AdaBoostRegressor()\n"
     ]
    }
   ],
   "source": [
    "#Model Building(Finding the best random state)\n",
    "\n",
    "model=[DecisionTreeRegressor(),KNeighborsRegressor(),AdaBoostRegressor(),LinearRegression(),GradientBoostingRegressor()]\n",
    "max_r2_score=0\n",
    "for r_state in range(40,90):\n",
    "    train_x,test_x,train_y,test_y=train_test_split(x,y,random_state=r_state,test_size=0.33)\n",
    "    for i in model:\n",
    "        i.fit(train_x,train_y)\n",
    "        pre=i.predict(test_x)\n",
    "        r2_sc=r2_score(test_y,pre)\n",
    "        print('r2 score correspond to random state',r_state,'is',r2_sc)\n",
    "        if r2_sc>max_r2_score:\n",
    "            max_r2_score=r2_sc\n",
    "            final_state=r_state\n",
    "            final_model=i\n",
    "print()\n",
    "print()\n",
    "print()\n",
    "print()\n",
    "print('max r2 score correspond to random state',final_state,'is',max_r2_score,'and model is',final_model)"
   ]
  },
  {
   "cell_type": "markdown",
   "id": "06df1cc2",
   "metadata": {},
   "source": [
    "#### Above we are using for loop which helps us to provide the r2 score at each random state and for the best state where r2 score is maximum has come as output value.\n",
    "\n",
    "#### The best model is AdaBoostRegressor and the r2 score is 98% to random state 60."
   ]
  },
  {
   "cell_type": "code",
   "execution_count": 24,
   "id": "e9be599a",
   "metadata": {},
   "outputs": [],
   "source": [
    "train_x,test_x,train_y,test_y=train_test_split(x,y,random_state=60,test_size=0.33)"
   ]
  },
  {
   "cell_type": "code",
   "execution_count": 26,
   "id": "6de044e8",
   "metadata": {},
   "outputs": [
    {
     "data": {
      "text/plain": [
       "AdaBoostRegressor()"
      ]
     },
     "execution_count": 26,
     "metadata": {},
     "output_type": "execute_result"
    }
   ],
   "source": [
    "from sklearn.ensemble import AdaBoostRegressor\n",
    "ab=AdaBoostRegressor()\n",
    "ab.fit(train_x,train_y)"
   ]
  },
  {
   "cell_type": "code",
   "execution_count": 27,
   "id": "cef9c75b",
   "metadata": {},
   "outputs": [],
   "source": [
    "y_pred=ab.predict(test_x)"
   ]
  },
  {
   "cell_type": "code",
   "execution_count": 28,
   "id": "fe2be999",
   "metadata": {},
   "outputs": [],
   "source": [
    "y_pred=ab.predict(test_x)"
   ]
  },
  {
   "cell_type": "code",
   "execution_count": 29,
   "id": "9753e065",
   "metadata": {},
   "outputs": [
    {
     "data": {
      "text/plain": [
       "0.9905429735321317"
      ]
     },
     "execution_count": 29,
     "metadata": {},
     "output_type": "execute_result"
    }
   ],
   "source": [
    "ab.score(train_x,train_y)"
   ]
  },
  {
   "cell_type": "code",
   "execution_count": 30,
   "id": "be7d5580",
   "metadata": {},
   "outputs": [
    {
     "data": {
      "text/plain": [
       "0.9710651573651511"
      ]
     },
     "execution_count": 30,
     "metadata": {},
     "output_type": "execute_result"
    }
   ],
   "source": [
    "ab.score(test_x,test_y)"
   ]
  },
  {
   "cell_type": "code",
   "execution_count": 31,
   "id": "e7c4cd92",
   "metadata": {},
   "outputs": [
    {
     "data": {
      "image/png": "[encoded data removed]",
      "text/plain": [
       "<Figure size 432x288 with 1 Axes>"
      ]
     },
     "metadata": {
      "needs_background": "light"
     },
     "output_type": "display_data"
    }
   ],
   "source": [
    "#Distribution plot\n",
    "\n",
    "sns.distplot(test_y-y_pred)\n",
    "plt.show()"
   ]
  },
  {
   "cell_type": "code",
   "execution_count": 32,
   "id": "d28d9509",
   "metadata": {},
   "outputs": [
    {
     "data": {
      "image/png": "[encoded data removed]",
      "text/plain": [
       "<Figure size 432x288 with 1 Axes>"
      ]
     },
     "metadata": {
      "needs_background": "light"
     },
     "output_type": "display_data"
    }
   ],
   "source": [
    "#Scatter-plot\n",
    "\n",
    "plt.scatter(test_y, y_pred, alpha = 0.5)\n",
    "plt.xlabel(\"test_y\")\n",
    "plt.ylabel(\"y_pred\")\n",
    "plt.show()"
   ]
  },
  {
   "cell_type": "code",
   "execution_count": 33,
   "id": "26513f74",
   "metadata": {},
   "outputs": [
    {
     "name": "stdout",
     "output_type": "stream",
     "text": [
      "Mean Absolute Error: 93458.12588052971\n",
      "Mean Squared Error: 16619002103.393894\n",
      "Root Mean Absolute Error: 305.70921785338714\n"
     ]
    }
   ],
   "source": [
    "from sklearn.metrics import mean_absolute_error\n",
    "\n",
    "print('Mean Absolute Error:',mean_absolute_error(test_y,y_pred))\n",
    "print('Mean Squared Error:',mean_squared_error(test_y,y_pred))\n",
    "print('Root Mean Absolute Error:',np.sqrt(mean_absolute_error(test_y,y_pred)))"
   ]
  },
  {
   "cell_type": "code",
   "execution_count": 34,
   "id": "c0d6f4a7",
   "metadata": {},
   "outputs": [],
   "source": [
    "#Hyperparameter tuning using RandomizedSearchCV\n",
    "\n",
    "from sklearn.model_selection import RandomizedSearchCV"
   ]
  },
  {
   "cell_type": "code",
   "execution_count": 35,
   "id": "9bf1e135",
   "metadata": {},
   "outputs": [],
   "source": [
    "#List of parameters to pass\n",
    "\n",
    "n_estimators = [10,50,100]\n",
    "loss=['linear','square','exponential']\n",
    "\n",
    "#max_features = ['auto', 'sqrt']\n",
    "#max_depth = [2, 3, 5]\n",
    "#min_samples_split = [2, 4, 6]\n",
    "#min_samples_leaf = [1, 2, 4, 6]\n",
    "\n",
    "learning_rate=[0.1]"
   ]
  },
  {
   "cell_type": "code",
   "execution_count": 36,
   "id": "9c9d3bb1",
   "metadata": {},
   "outputs": [],
   "source": [
    "#Creating random grid\n",
    "\n",
    "random_grid = {'n_estimators': n_estimators,\n",
    "               'loss':loss,\n",
    "               'learning_rate':learning_rate}"
   ]
  },
  {
   "cell_type": "code",
   "execution_count": 37,
   "id": "cd7b279a",
   "metadata": {},
   "outputs": [],
   "source": [
    "# Random search of parameters, using 5 fold cross validation, \n",
    "# search across 100 different combinations\n",
    "\n",
    "ab_random = RandomizedSearchCV(estimator = ab, param_distributions = random_grid,scoring='neg_mean_squared_error', n_iter = 10, cv = 5, verbose=2, random_state=60, n_jobs = 1)\n"
   ]
  },
  {
   "cell_type": "code",
   "execution_count": 38,
   "id": "d4be62ae",
   "metadata": {},
   "outputs": [
    {
     "name": "stdout",
     "output_type": "stream",
     "text": [
      "Fitting 5 folds for each of 9 candidates, totalling 45 fits\n",
      "[CV] END ....learning_rate=0.1, loss=linear, n_estimators=10; total time=   0.0s\n",
      "[CV] END ....learning_rate=0.1, loss=linear, n_estimators=10; total time=   0.0s\n",
      "[CV] END ....learning_rate=0.1, loss=linear, n_estimators=10; total time=   0.0s\n",
      "[CV] END ....learning_rate=0.1, loss=linear, n_estimators=10; total time=   0.0s\n",
      "[CV] END ....learning_rate=0.1, loss=linear, n_estimators=10; total time=   0.0s\n",
      "[CV] END ....learning_rate=0.1, loss=linear, n_estimators=50; total time=   0.0s\n",
      "[CV] END ....learning_rate=0.1, loss=linear, n_estimators=50; total time=   0.0s\n",
      "[CV] END ....learning_rate=0.1, loss=linear, n_estimators=50; total time=   0.0s\n",
      "[CV] END ....learning_rate=0.1, loss=linear, n_estimators=50; total time=   0.0s\n",
      "[CV] END ....learning_rate=0.1, loss=linear, n_estimators=50; total time=   0.1s\n",
      "[CV] END ...learning_rate=0.1, loss=linear, n_estimators=100; total time=   0.1s\n",
      "[CV] END ...learning_rate=0.1, loss=linear, n_estimators=100; total time=   0.2s\n",
      "[CV] END ...learning_rate=0.1, loss=linear, n_estimators=100; total time=   0.3s\n",
      "[CV] END ...learning_rate=0.1, loss=linear, n_estimators=100; total time=   0.1s\n",
      "[CV] END ...learning_rate=0.1, loss=linear, n_estimators=100; total time=   0.1s\n",
      "[CV] END ....learning_rate=0.1, loss=square, n_estimators=10; total time=   0.0s\n",
      "[CV] END ....learning_rate=0.1, loss=square, n_estimators=10; total time=   0.0s\n",
      "[CV] END ....learning_rate=0.1, loss=square, n_estimators=10; total time=   0.0s\n",
      "[CV] END ....learning_rate=0.1, loss=square, n_estimators=10; total time=   0.0s\n",
      "[CV] END ....learning_rate=0.1, loss=square, n_estimators=10; total time=   0.0s\n",
      "[CV] END ....learning_rate=0.1, loss=square, n_estimators=50; total time=   0.0s\n",
      "[CV] END ....learning_rate=0.1, loss=square, n_estimators=50; total time=   0.0s\n",
      "[CV] END ....learning_rate=0.1, loss=square, n_estimators=50; total time=   0.0s\n",
      "[CV] END ....learning_rate=0.1, loss=square, n_estimators=50; total time=   0.0s\n",
      "[CV] END ....learning_rate=0.1, loss=square, n_estimators=50; total time=   0.0s\n",
      "[CV] END ...learning_rate=0.1, loss=square, n_estimators=100; total time=   0.1s\n",
      "[CV] END ...learning_rate=0.1, loss=square, n_estimators=100; total time=   0.1s\n",
      "[CV] END ...learning_rate=0.1, loss=square, n_estimators=100; total time=   0.1s\n",
      "[CV] END ...learning_rate=0.1, loss=square, n_estimators=100; total time=   0.1s\n",
      "[CV] END ...learning_rate=0.1, loss=square, n_estimators=100; total time=   0.2s\n",
      "[CV] END learning_rate=0.1, loss=exponential, n_estimators=10; total time=   0.0s\n",
      "[CV] END learning_rate=0.1, loss=exponential, n_estimators=10; total time=   0.0s\n",
      "[CV] END learning_rate=0.1, loss=exponential, n_estimators=10; total time=   0.0s\n",
      "[CV] END learning_rate=0.1, loss=exponential, n_estimators=10; total time=   0.0s\n",
      "[CV] END learning_rate=0.1, loss=exponential, n_estimators=10; total time=   0.0s\n",
      "[CV] END learning_rate=0.1, loss=exponential, n_estimators=50; total time=   0.1s\n",
      "[CV] END learning_rate=0.1, loss=exponential, n_estimators=50; total time=   0.1s\n",
      "[CV] END learning_rate=0.1, loss=exponential, n_estimators=50; total time=   0.0s\n",
      "[CV] END learning_rate=0.1, loss=exponential, n_estimators=50; total time=   0.0s\n",
      "[CV] END learning_rate=0.1, loss=exponential, n_estimators=50; total time=   0.1s\n",
      "[CV] END learning_rate=0.1, loss=exponential, n_estimators=100; total time=   0.2s\n",
      "[CV] END learning_rate=0.1, loss=exponential, n_estimators=100; total time=   0.1s\n",
      "[CV] END learning_rate=0.1, loss=exponential, n_estimators=100; total time=   0.1s\n",
      "[CV] END learning_rate=0.1, loss=exponential, n_estimators=100; total time=   0.1s\n",
      "[CV] END learning_rate=0.1, loss=exponential, n_estimators=100; total time=   0.1s\n"
     ]
    },
    {
     "data": {
      "text/plain": [
       "RandomizedSearchCV(cv=5, estimator=AdaBoostRegressor(), n_jobs=1,\n",
       "                   param_distributions={'learning_rate': [0.1],\n",
       "                                        'loss': ['linear', 'square',\n",
       "                                                 'exponential'],\n",
       "                                        'n_estimators': [10, 50, 100]},\n",
       "                   random_state=60, scoring='neg_mean_squared_error',\n",
       "                   verbose=2)"
      ]
     },
     "execution_count": 38,
     "metadata": {},
     "output_type": "execute_result"
    }
   ],
   "source": [
    "ab_random.fit(train_x,train_y)"
   ]
  },
  {
   "cell_type": "code",
   "execution_count": 39,
   "id": "ba3da232",
   "metadata": {},
   "outputs": [
    {
     "data": {
      "text/plain": [
       "{'n_estimators': 100, 'loss': 'exponential', 'learning_rate': 0.1}"
      ]
     },
     "execution_count": 39,
     "metadata": {},
     "output_type": "execute_result"
    }
   ],
   "source": [
    "ab_random.best_params_"
   ]
  },
  {
   "cell_type": "code",
   "execution_count": 40,
   "id": "cc3a54d2",
   "metadata": {},
   "outputs": [
    {
     "name": "stdout",
     "output_type": "stream",
     "text": [
      "R2 score: 98.94850765767032\n"
     ]
    }
   ],
   "source": [
    "ab=AdaBoostRegressor(n_estimators=50,loss='exponential',learning_rate=0.1)\n",
    "ab.fit(train_x,train_y)\n",
    "ab.score(train_x,train_y)\n",
    "pred=ab.predict(test_x)\n",
    "abr=r2_score(test_y,pred)\n",
    "print('R2 score:',abr*100)"
   ]
  },
  {
   "cell_type": "markdown",
   "id": "8ed9d284",
   "metadata": {},
   "source": [
    "## The accuracy obtained using AdaBoostRegressor is 99%."
   ]
  },
  {
   "cell_type": "code",
   "execution_count": null,
   "id": "b4003fe8",
   "metadata": {},
   "outputs": [],
   "source": []
  },
  {
   "cell_type": "code",
   "execution_count": null,
   "id": "7df2a6b7",
   "metadata": {},
   "outputs": [],
   "source": []
  }
 ],
 "metadata": {
  "kernelspec": {
   "display_name": "Python 3",
   "language": "python",
   "name": "python3"
  },
  "language_info": {
   "codemirror_mode": {
    "name": "ipython",
    "version": 3
   },
   "file_extension": ".py",
   "mimetype": "text/x-python",
   "name": "python",
   "nbconvert_exporter": "python",
   "pygments_lexer": "ipython3",
   "version": "3.8.8"
  }
 },
 "nbformat": 4,
 "nbformat_minor": 5
}
